{
  "nbformat": 4,
  "nbformat_minor": 0,
  "metadata": {
    "colab": {
      "provenance": []
    },
    "kernelspec": {
      "name": "python3",
      "display_name": "Python 3"
    },
    "language_info": {
      "name": "python"
    }
  },
  "cells": [
    {
      "cell_type": "markdown",
      "source": [
        "### 1. 주주가치 측면에서의 잉여현금흐름(Free Cash Flow to Equity)\n",
        "\n",
        "  : 채권자에게 귀속되는 부분을 제외한 주주귀속부분을 추출하기 위해 이자비용, 부채상환금을 차감한다. \n",
        "\n",
        "  : 현금흐름은 재무적인 관점으로 회계적 관점에서 쓰여진 재무제표에 없는 변수들을 입력하여야 한다.\n",
        "\n",
        "* 영업이익 - **이자비용** = EBT\n",
        "* EBT(Earning Before Tax) - 법인세 비용 = EAT(Earning After Tax)\n",
        "* EAT - 순운전자본변동분(NWC) + 비현금비용(감가상각비) - 자본적지출(CAPEX) - **부채상환** = FCFE\n",
        "\n",
        "* 영업활동을 영위하기 위해 자산성 있는 항목을 현금을 유출시켜 늘리는 것으로 당기손익에 영향을 미치지 않는 지출을 자본적 지출(= 영업기반의 기업투자지출)이라고 한다. \n",
        "\n",
        "  예) 토지, 건물 기타 부동산, 기계, 차량, 컴퓨터\n",
        "  \n",
        "  유형자산, 취득원가에 가산한다. 자본적 지출에 의한 감가상각비 일부는 손익계산서상 반영되지만, 현금흐름이 반영되지 않기 때문에 별도로 산출하여야 할 것이다. "
      ],
      "metadata": {
        "id": "Edpgr4C8wchJ"
      }
    },
    {
      "cell_type": "markdown",
      "source": [
        "### 2. 가중평균자본비용(Weighted Average Cost of Capital)\n",
        "\n",
        "  : 기업의 재무실적 평가 시 사업에 투자한 자산의 이익률이 자본비용(투자자의 요구/기대수익률)을 얼마만큼 상회했는지를 기준으로 한다. \n",
        "  \n",
        "* 무위험수익률: 국고채 3년물 금리 [한국은행 경제통계시스템](https://ecos.bok.or.kr/#/) ecos.bok.or.kr/#/Short/a744bc ecos.bok.or.kr/#/Short/7ce443\n",
        "* 시장수익률: \n",
        "\n",
        "  (1) S&P500수익률에서 한국 국가조정을 한 수익률, 국가별 리스크 지표인 CDS 스프레드(채권에서 주식 조정하기 위해 Market Equity Index 표준편차 대비 BAML Emerging Public Bond Index 표준편차 비율을 이용하여 산출)\n",
        "\n",
        "  (2) 유가증권시장 상장기업의 경우 KOSPI지수\n",
        "\n",
        "* 동종업계 베타"
      ],
      "metadata": {
        "id": "DOXknqZBzrTQ"
      }
    },
    {
      "cell_type": "markdown",
      "source": [
        "### 3. Discounted Cash Flow, 기본적 분석 \n",
        "* $ EV = \\Sigma_{n=1}^{T} \\frac{FCF_n}{(1+WACC)^n} + TV $ (기업가치)\n",
        "* $ TV = \\frac{\\frac{FCF_T+1}{WACC-g}}{(1+WACC)^T} $ (기업의 내재가치)\n",
        "* $ WACC = \\frac{D}{V}K_d(1-t) + \\frac{E}{V}K_e $\n",
        "\n"
      ],
      "metadata": {
        "id": "88v6H_5V4Zhi"
      }
    },
    {
      "cell_type": "markdown",
      "source": [
        "출처 : \n",
        "* [DCF계산법, DCF를 통한 EV 계산법](https://valuefactory.tistory.com/m/859)\n",
        "* [파이썬으로 DCF 구현하기](https://hiyihiyii.tistory.com/m/63)\n",
        "* https://site.financialmodelingprep.com/developer/docs/"
      ],
      "metadata": {
        "id": "8RR-g2ozvhON"
      }
    },
    {
      "cell_type": "code",
      "source": [
        "import pandas as pd\n",
        "  # 데이터 처리\n",
        "import numpy as np\n",
        "  # 선형대수, 행렬 연산 등\n",
        "import requests\n",
        "import json, traceback\n",
        "from bs4 import BeautifulSoup as soup \n",
        "  # 크롤링할 때 url을 통해 웹페이지 html 문서 (문자열) 요청\n",
        "import re\n",
        "  # 정규표현식\n",
        "import time\n",
        "from datetime import datetime\n",
        "from dateutil.relativedelta import relativedelta\n",
        "  # 날짜형 타입 처리"
      ],
      "metadata": {
        "id": "FP6yySGc0fDD"
      },
      "execution_count": 1,
      "outputs": []
    },
    {
      "cell_type": "markdown",
      "source": [
        "``` \n",
        "세후영업이익 - 순운전자본 변동 + 감가상각비(비현금비용) - 자본적지출 = 잉여현금흐름(FCFF)\n",
        "```"
      ],
      "metadata": {
        "id": "BIMmaXcyVE3v"
      }
    },
    {
      "cell_type": "code",
      "source": [
        "class DiscountCashFlow1():\n",
        "\n",
        "  def __init__(self, html_stock_code: str, ticker = None,\n",
        "               Income_statement = None, Balance_sheet = None, Cash_flow = None):\n",
        "    \n",
        "    self.html_stock_code = html_stock_code\n",
        "    self._ticker = ticker\n",
        "    self.Income_statement = Income_statement\n",
        "    self.Balance_sheet = Balance_sheet\n",
        "    self.Cash_flow = Cash_flow\n",
        "\n",
        "    self._매출액 = []\n",
        "    self._매출원가 = []\n",
        "    self._판매관리비 = []\n",
        "    self._법인세율 = 0\n",
        "    self._operate_cashflow = []\n",
        "    \n",
        "    self._capex_list = []\n",
        "    self._depreciation_list = []\n",
        "    self._amortization_list = []\n",
        "    self._NWC = []\n",
        "    self._dNWC = []\n",
        "    self._FCFF = []\n",
        "\n",
        "\n",
        "# getStockCode() : 상장주식종목 코드번호를 html을 통해 데이터프레임 형태로 불러오는 함수\n",
        "  def getStockCode(self) -> pd.DataFrame:\n",
        "  \n",
        "  # 1. 상장지수 회사명 및 종목코드 데이터를 불러오기\n",
        "    KOSPI_code_list = pd.read_html(self.html_stock_code + \"?method=download&marketType=stockMkt\")[0]\n",
        "    KOSDAQ_code_list = pd.read_html(self.html_stock_code + \"?method=download&marketType=kosdaqMkt\")[0]\n",
        "    KOSPI_code_list = KOSPI_code_list[[\"회사명\", \"종목코드\"]]\n",
        "    KOSDAQ_code_list = KOSDAQ_code_list[[\"회사명\", \"종목코드\"]]\n",
        "      # 각 시장별 회사명, 종목코드만 추출\n",
        "    KOSPI_code_list[\"종목코드\"] = KOSPI_code_list[\"종목코드\"].apply(lambda x: \"0\"*(6 - len(str(x))) + str(x))\n",
        "    KOSDAQ_code_list[\"종목코드\"] = KOSDAQ_code_list[\"종목코드\"].apply(lambda x: \"0\"*(6 - len(str(x))) + str(x))\n",
        "      # 주식종목코드는 int 타입(연속형)으로 6자리에 맞추기 위한 0 추가하는 익명함수(lambda)\n",
        "\n",
        "  # 2. KOSPI, KOSDAQ 상장주식종목에서 리츠와 ETF를 제거\n",
        "  # 문자열 정규표현식에서 \"리츠\"와 \"스팩\"을 필터링하여 해당 행 번호를 추출하여 데이터프레임에서 삭제\n",
        "    KOSPI_code_list.drop(\n",
        "        KOSPI_code_list[KOSPI_code_list[\"회사명\"].str.contains(r\"(스팩)\") == True].index.tolist(), axis = 0, inplace = True)\n",
        "    KOSPI_code_list.drop(\n",
        "        KOSPI_code_list[KOSPI_code_list[\"회사명\"].str.contains(r\"(리츠)\") == True].index.tolist(), axis = 0, inplace = True)\n",
        "    KOSDAQ_code_list.drop(\n",
        "        KOSDAQ_code_list[KOSDAQ_code_list[\"회사명\"].str.contains(r\"(스팩)\") == True].index.tolist(), axis = 0, inplace = True)\n",
        "    KOSDAQ_code_list.drop(\n",
        "        KOSDAQ_code_list[KOSDAQ_code_list[\"회사명\"].str.contains(r\"(리츠)\") == True].index.tolist(), axis = 0, inplace = True)\n",
        "      # [str.contains UserWarning] This pattern is interpreted as a regular expression, and has match groups. To actually get the groups, use str.extract.\n",
        "    return KOSPI_code_list, KOSDAQ_code_list\n",
        "\n",
        "\n",
        "# loadFinancialData() : 재무 데이터 크롤링하여 손익계산서, 대차대조표, 현금흐름표 계정별 데이터프레임 캡슐화하기\n",
        "  def loadFinancialData(self): # ticker_name: str):\n",
        "    # 자료 출처 : FnGuide, Naver Finanace, Yahoo Finance\n",
        "    self.ticker = str(input(\"종목코드: \"))\n",
        "    # self.ticker = ticker_name\n",
        "    url_fnguide = '''https://comp.fnguide.com/SVO2/asp/SVD_Finance.asp?pGB=1&gicode={}&cID=&MenuYn=Y&ReportGB=&NewMenuID=103&stkGb=701'''.format(self.ticker)\n",
        "    table_fin_data = pd.read_html(url_fnguide, encoding = \"utf-8\")\n",
        "\n",
        "    self.Income_statement = table_fin_data[0]\n",
        "      # 손익계산서\n",
        "    self.Balance_sheet = table_fin_data[2]\n",
        "      # 대차대조표\n",
        "    self.Cash_flow = table_fin_data[4]\n",
        "      # 현금흐름표\n",
        "\n",
        "    print(self.Income_statement)\n",
        "    print(self.Balance_sheet)\n",
        "    print(self.Cash_flow)\n",
        "\n",
        "\n",
        "# IncomeSheet() 손익계산서상 계정과목\n",
        "# 매출액, 매출원가, 판매관리비 -> 영업현금흐름과 법인세율 반환\n",
        "  def IncomeSheet(self):\n",
        "    IS = self.Income_statement.loc[\n",
        "        [0, 1, 3], [\"IFRS(연결)\",\"2019/12\",\"2020/12\",\"2021/12\",\"2022/12\"]\n",
        "    ]\n",
        "    self._매출액 = list(IS.loc[0])\n",
        "    self._매출원가 = list(IS.loc[1])\n",
        "    self._판매관리비 = list(IS.loc[3])\n",
        "      # [TypeError] cannot do slice indexing on Index with these indexers [1] of type int\n",
        "    self._매출액.pop(0)\n",
        "    self._매출원가.pop(0)\n",
        "    self._판매관리비.pop(0)\n",
        "\n",
        "\n",
        "    for index in range(4):\n",
        "      if self._매출액[index] > 200:\n",
        "        # 3,000억 원 초과면 법인세율 22%(과거 25%)\n",
        "        # 200억 원 초과 3,000억 원 이하이면 법인세율 22%\n",
        "        self._법인세율 = 0.22\n",
        "      elif 2 < self._매출액[index] <= 200:\n",
        "        # 5억 ~ 200억 원, 2 ~ 5억 원, 2억 원 이하이면 법인세율 20%\n",
        "        self._법인세율 = 0.20\n",
        "      else:\n",
        "        pass\n",
        "\n",
        "      self._operate_cashflow.append(\n",
        "          (1 - self._법인세율)\n",
        "          *(self._매출액[index] - self._매출원가[index] - self._판매관리비[index])\n",
        "      )\n",
        "        # 매출액 - 매출원가 = 매출총이익\n",
        "        # 매출총이익 - 판매관리비 = 영업이익\n",
        "        # 영업이익*(1-법인세율) = 영업현금흐름\n",
        "      self._법인세율\n",
        "\n",
        "\n",
        "# CashFlow() 현금흐름표상 계정과목\n",
        "# 자본적지출, 유형자산상각비(감가상각비), 무형자산상각비를 반환\n",
        "  def CashFlow(self):\n",
        "    url_fnguide = '''https://comp.fnguide.com/SVO2/asp/SVD_Finance.asp?pGB=1&gicode={}&cID=&MenuYn=Y&ReportGB=&NewMenuID=103&stkGb=701'''.format(self.ticker)\n",
        "    response_fin_data = requests.get(url_fnguide)\n",
        "\n",
        "    if response_fin_data.status_code == 200:\n",
        "      html = response_fin_data.text\n",
        "      object = soup(html, \"html.parser\")\n",
        "        # [UnboundLocalError] local variable 'soup' referenced before assignment\n",
        "      capex = object.select_one(\"#divCashY > table > tbody > tr:nth-child(108)\")\n",
        "      depreciation = object.select_one(\"#divCashY > table > tbody > tr:nth-child(9)\")\n",
        "        # [TypeError] select_one() missing 1 required positional argument: 'selector'\n",
        "      amortization = object.select_one(\"#divCashY > table > tbody > tr:nth-child(10)\")\n",
        "    else:\n",
        "      print(response_fin_data.status_code)\n",
        "      \n",
        "    capex = capex.get_text()\n",
        "      # 자본적지출(영업 기반의 기업투자지출)\n",
        "    depreciation = depreciation.get_text()\n",
        "      # 유형자산상각비 : 감가상각비(시간의 흐름에 따른 유형자산의 가치 감소)\n",
        "    amortization = amortization.get_text()\n",
        "      # 무형자산상각비 : 영업권, 저작권, 개발비 등의 무형자산을 회계적으로 배분한 비용\n",
        "      # 직접 해당 자산의 계정에서 금액을 차감\n",
        "\n",
        "    regex = re.compile(\"\\d+\\,?\\d+\")\n",
        "      # 정규표현식 : 모든 숫자 추출 (\\d+)/(\\d+)\n",
        "    self._capex_list = regex.findall(capex)\n",
        "    self._depreciation_list = regex.findall(depreciation)\n",
        "    self._amortization_list = regex.findall(amortization)\n",
        "      # 문자열 중 정규표현식의 패턴과 일치하는 모든 부분을 찾아 캡슐화 \n",
        "\n",
        "    for index in range(4):\n",
        "      self._capex_list[index] = int(self._capex_list[index].replace(\",\", \"\"))\n",
        "      self._depreciation_list[index] = int(self._depreciation_list[index].replace(\",\", \"\"))\n",
        "      self._amortization_list[index] = int(self._amortization_list[index].replace(\",\", \"\"))\n",
        "    \n",
        "    # self._capex_list.pop()\n",
        "    # self._depreciation_list.pop()\n",
        "    # self._amortization_list.pop()\n",
        "    print(self._capex_list, self._depreciation_list, self._amortization_list)\n",
        "    \n",
        "\n",
        "# BalancSheet() 재무상태표상 계정과목\n",
        "# 매출채권, 재고자산, 기타유동자산, 매입채무, 유동부채 -> 순운전자본 변동분 반환\n",
        "  def BalanceSheet(self):\n",
        "    url_fnguide = '''https://comp.fnguide.com/SVO2/asp/SVD_Finance.asp?pGB=1&gicode={}&cID=&MenuYn=Y&ReportGB=&NewMenuID=103&stkGb=701'''.format(self.ticker)\n",
        "    response_fin_data = requests.get(url_fnguide)\n",
        "    \n",
        "    if response_fin_data.status_code == 200:\n",
        "      # 웹페이지의 html 문서 데이터 요청에 응답하는데 성공하면 HTTP 상태코드 200 (404 Not found, 403 Forbidden, 500 Internal Server Error)\n",
        "      html_fin_data = response_fin_data.text\n",
        "      object_fin_data = soup(html_fin_data, \"html.parser\")\n",
        "\n",
        "      # 매출채권 및 기타유동채권\n",
        "      account_receivable_request = object_fin_data.select_one(\"#divDaechaY > table > tbody > tr:nth-child(6)\").get_text()\n",
        "      # 재고자산\n",
        "      inventory_assets_request = object_fin_data.select_one(\"#divDaechaY > table > tbody > tr:nth-child(3)\").get_text()\n",
        "      # 기타유동자산(선급금 등)\n",
        "      other_current_assets_request = object_fin_data.select_one(\"#divDaechaY > table > tbody > tr:nth-child(11)\").get_text()\n",
        "      \n",
        "      # 매입채무 및 기타유동채무\n",
        "      account_assets_request = object_fin_data.select_one(\"#divDaechaY > table > tbody > tr:nth-child(35)\").get_text()\n",
        "      # 유동부채\n",
        "      other_current_liabilities_request = object_fin_data.select_one(\"#divDaechaY > table > tbody > tr:nth-child(42)\").get_text()\n",
        "    else: \n",
        "      print(response_fin_data.status_code)\n",
        "    # print(html_fin_data)\n",
        "\n",
        "    regex = re.compile(\"\\d+\\,?\\d+\")\n",
        "      # 하나 이상의 숫자인 정규식 객체를 반환\n",
        "    \n",
        "    # [TypeError] expected string or bytes-like object\n",
        "    account_receivable = regex.findall(account_receivable_request)\n",
        "    inventory_assets = regex.findall(inventory_assets_request)\n",
        "    other_current_assets = regex.findall(other_current_assets_request)\n",
        "    account_payable = regex.findall(account_assets_request)\n",
        "    other_current_liabilities = regex.findall(other_current_liabilities_request)\n",
        "\n",
        "    for index in range(len(account_receivable)):\n",
        "      account_receivable[index] = int(account_receivable[index].replace(\",\", \"\"))\n",
        "      inventory_assets[index] = int(inventory_assets[index].replace(\",\", \"\"))\n",
        "      other_current_assets[index] = int(other_current_assets[index].replace(\",\", \"\"))\n",
        "      account_payable[index] = int(account_payable[index].replace(\",\", \"\"))\n",
        "      other_current_liabilities[index] = int(other_current_liabilities[index].replace(\",\", \"\"))\n",
        "      # 순운전자본변동(Net Working Capital) = 유동자산과 유동부채의 차이, 유동자산 / 총자본\n",
        "      self._NWC.append(\n",
        "          (account_receivable[index] + inventory_assets[index] + other_current_assets[index])\n",
        "           - (account_payable[index] + other_current_liabilities[index]))\n",
        "        # 영업활동을 하면서 회계상 수익 비용 인식 대비 실제 현금이 어느수준으로 유입되는지 확인하는 척도\n",
        "        # 해석: NWC 증가하면 유동부채가 더 증가했다는 것, 현금이 회계상 인식보다 덜 유입 혹은 더 유출되었다는 의미\n",
        "\n",
        "    # self._NWC.pop()\n",
        "\n",
        "    for index in range(len(self._operate_cashflow)):\n",
        "      # 영업현금흐름 리스트의 길이를 인덱스로 설정\n",
        "      if index < 3:\n",
        "        self._dNWC.append(\n",
        "            self._NWC[index+1] - self._NWC[index]\n",
        "        )\n",
        "        # 전년 대비 당기 순운전자본 NWC의 변동분 d를 계산하여 리스트에 원소로 추가\n",
        "    self._dNWC.insert(0, 0)\n",
        "    return self._dNWC\n",
        "\n",
        "\n",
        "# FreeCashFlowtotheFirm()\n",
        "  def FreeCashFlowtotheFirm(self):\n",
        "    for index in range(4):\n",
        "      self._FCFF.append(\n",
        "         self._operate_cashflow[index]\n",
        "         + self._depreciation_list[index]\n",
        "         + self._amortization_list[index]\n",
        "         - self._capex_list[index]\n",
        "         # IndexError: list index out of range\n",
        "         - self._dNWC[index]\n",
        "     )\n",
        "    \n",
        "    return self._FCFF\n",
        "  "
      ],
      "metadata": {
        "id": "8ZKZmkrn4nml"
      },
      "execution_count": 62,
      "outputs": []
    },
    {
      "cell_type": "code",
      "execution_count": 79,
      "metadata": {
        "id": "8FwSCg3yvII4"
      },
      "outputs": [],
      "source": [
        "DCF1 = DiscountCashFlow1(    \n",
        "    html_stock_code = \"https://kind.krx.co.kr/corpgeneral/corpList.do\",\n",
        ")"
      ]
    },
    {
      "cell_type": "code",
      "source": [
        "KOSPI_code, KOSDAQ_code = DCF1.getStockCode()"
      ],
      "metadata": {
        "id": "sjPEbqViv2Gf",
        "colab": {
          "base_uri": "https://localhost:8080/"
        },
        "outputId": "cd9ef19e-c4b0-43e4-9b56-28974d88f9cc"
      },
      "execution_count": 80,
      "outputs": [
        {
          "output_type": "stream",
          "name": "stderr",
          "text": [
            "<ipython-input-62-738f46eb4d87>:42: UserWarning: This pattern is interpreted as a regular expression, and has match groups. To actually get the groups, use str.extract.\n",
            "  KOSPI_code_list[KOSPI_code_list[\"회사명\"].str.contains(r\"(스팩)\") == True].index.tolist(), axis = 0, inplace = True)\n",
            "<ipython-input-62-738f46eb4d87>:44: UserWarning: This pattern is interpreted as a regular expression, and has match groups. To actually get the groups, use str.extract.\n",
            "  KOSPI_code_list[KOSPI_code_list[\"회사명\"].str.contains(r\"(리츠)\") == True].index.tolist(), axis = 0, inplace = True)\n",
            "<ipython-input-62-738f46eb4d87>:46: UserWarning: This pattern is interpreted as a regular expression, and has match groups. To actually get the groups, use str.extract.\n",
            "  KOSDAQ_code_list[KOSDAQ_code_list[\"회사명\"].str.contains(r\"(스팩)\") == True].index.tolist(), axis = 0, inplace = True)\n",
            "<ipython-input-62-738f46eb4d87>:48: UserWarning: This pattern is interpreted as a regular expression, and has match groups. To actually get the groups, use str.extract.\n",
            "  KOSDAQ_code_list[KOSDAQ_code_list[\"회사명\"].str.contains(r\"(리츠)\") == True].index.tolist(), axis = 0, inplace = True)\n"
          ]
        }
      ]
    },
    {
      "cell_type": "code",
      "source": [
        "KOSPI_code[KOSPI_code[\"회사명\"] == \"LG에너지솔루션\"]"
      ],
      "metadata": {
        "colab": {
          "base_uri": "https://localhost:8080/",
          "height": 81
        },
        "id": "5xTCkdOK9P7P",
        "outputId": "ec0b8bde-ff04-4fab-c2d2-d9e982b7d085"
      },
      "execution_count": 81,
      "outputs": [
        {
          "output_type": "execute_result",
          "data": {
            "text/plain": [
              "          회사명    종목코드\n",
              "424  LG에너지솔루션  373220"
            ],
            "text/html": [
              "\n",
              "  <div id=\"df-7a21f673-60c7-4b6c-a37d-93ee3193cc72\">\n",
              "    <div class=\"colab-df-container\">\n",
              "      <div>\n",
              "<style scoped>\n",
              "    .dataframe tbody tr th:only-of-type {\n",
              "        vertical-align: middle;\n",
              "    }\n",
              "\n",
              "    .dataframe tbody tr th {\n",
              "        vertical-align: top;\n",
              "    }\n",
              "\n",
              "    .dataframe thead th {\n",
              "        text-align: right;\n",
              "    }\n",
              "</style>\n",
              "<table border=\"1\" class=\"dataframe\">\n",
              "  <thead>\n",
              "    <tr style=\"text-align: right;\">\n",
              "      <th></th>\n",
              "      <th>회사명</th>\n",
              "      <th>종목코드</th>\n",
              "    </tr>\n",
              "  </thead>\n",
              "  <tbody>\n",
              "    <tr>\n",
              "      <th>424</th>\n",
              "      <td>LG에너지솔루션</td>\n",
              "      <td>373220</td>\n",
              "    </tr>\n",
              "  </tbody>\n",
              "</table>\n",
              "</div>\n",
              "      <button class=\"colab-df-convert\" onclick=\"convertToInteractive('df-7a21f673-60c7-4b6c-a37d-93ee3193cc72')\"\n",
              "              title=\"Convert this dataframe to an interactive table.\"\n",
              "              style=\"display:none;\">\n",
              "        \n",
              "  <svg xmlns=\"http://www.w3.org/2000/svg\" height=\"24px\"viewBox=\"0 0 24 24\"\n",
              "       width=\"24px\">\n",
              "    <path d=\"M0 0h24v24H0V0z\" fill=\"none\"/>\n",
              "    <path d=\"M18.56 5.44l.94 2.06.94-2.06 2.06-.94-2.06-.94-.94-2.06-.94 2.06-2.06.94zm-11 1L8.5 8.5l.94-2.06 2.06-.94-2.06-.94L8.5 2.5l-.94 2.06-2.06.94zm10 10l.94 2.06.94-2.06 2.06-.94-2.06-.94-.94-2.06-.94 2.06-2.06.94z\"/><path d=\"M17.41 7.96l-1.37-1.37c-.4-.4-.92-.59-1.43-.59-.52 0-1.04.2-1.43.59L10.3 9.45l-7.72 7.72c-.78.78-.78 2.05 0 2.83L4 21.41c.39.39.9.59 1.41.59.51 0 1.02-.2 1.41-.59l7.78-7.78 2.81-2.81c.8-.78.8-2.07 0-2.86zM5.41 20L4 18.59l7.72-7.72 1.47 1.35L5.41 20z\"/>\n",
              "  </svg>\n",
              "      </button>\n",
              "      \n",
              "  <style>\n",
              "    .colab-df-container {\n",
              "      display:flex;\n",
              "      flex-wrap:wrap;\n",
              "      gap: 12px;\n",
              "    }\n",
              "\n",
              "    .colab-df-convert {\n",
              "      background-color: #E8F0FE;\n",
              "      border: none;\n",
              "      border-radius: 50%;\n",
              "      cursor: pointer;\n",
              "      display: none;\n",
              "      fill: #1967D2;\n",
              "      height: 32px;\n",
              "      padding: 0 0 0 0;\n",
              "      width: 32px;\n",
              "    }\n",
              "\n",
              "    .colab-df-convert:hover {\n",
              "      background-color: #E2EBFA;\n",
              "      box-shadow: 0px 1px 2px rgba(60, 64, 67, 0.3), 0px 1px 3px 1px rgba(60, 64, 67, 0.15);\n",
              "      fill: #174EA6;\n",
              "    }\n",
              "\n",
              "    [theme=dark] .colab-df-convert {\n",
              "      background-color: #3B4455;\n",
              "      fill: #D2E3FC;\n",
              "    }\n",
              "\n",
              "    [theme=dark] .colab-df-convert:hover {\n",
              "      background-color: #434B5C;\n",
              "      box-shadow: 0px 1px 3px 1px rgba(0, 0, 0, 0.15);\n",
              "      filter: drop-shadow(0px 1px 2px rgba(0, 0, 0, 0.3));\n",
              "      fill: #FFFFFF;\n",
              "    }\n",
              "  </style>\n",
              "\n",
              "      <script>\n",
              "        const buttonEl =\n",
              "          document.querySelector('#df-7a21f673-60c7-4b6c-a37d-93ee3193cc72 button.colab-df-convert');\n",
              "        buttonEl.style.display =\n",
              "          google.colab.kernel.accessAllowed ? 'block' : 'none';\n",
              "\n",
              "        async function convertToInteractive(key) {\n",
              "          const element = document.querySelector('#df-7a21f673-60c7-4b6c-a37d-93ee3193cc72');\n",
              "          const dataTable =\n",
              "            await google.colab.kernel.invokeFunction('convertToInteractive',\n",
              "                                                     [key], {});\n",
              "          if (!dataTable) return;\n",
              "\n",
              "          const docLinkHtml = 'Like what you see? Visit the ' +\n",
              "            '<a target=\"_blank\" href=https://colab.research.google.com/notebooks/data_table.ipynb>data table notebook</a>'\n",
              "            + ' to learn more about interactive tables.';\n",
              "          element.innerHTML = '';\n",
              "          dataTable['output_type'] = 'display_data';\n",
              "          await google.colab.output.renderOutput(dataTable, element);\n",
              "          const docLink = document.createElement('div');\n",
              "          docLink.innerHTML = docLinkHtml;\n",
              "          element.appendChild(docLink);\n",
              "        }\n",
              "      </script>\n",
              "    </div>\n",
              "  </div>\n",
              "  "
            ]
          },
          "metadata": {},
          "execution_count": 81
        }
      ]
    },
    {
      "cell_type": "code",
      "source": [
        "DCF1.loadFinancialData()\n",
        "  # input: \"373220\" (단위: 억 원)"
      ],
      "metadata": {
        "colab": {
          "base_uri": "https://localhost:8080/"
        },
        "id": "7fjBnQdQBNnv",
        "outputId": "f166969d-6865-41d3-c7d5-00066846456c"
      },
      "execution_count": 82,
      "outputs": [
        {
          "output_type": "stream",
          "name": "stdout",
          "text": [
            "종목코드: \"373220\"\n",
            "                              IFRS(연결)    2019/12    2020/12    2021/12  \\\n",
            "0                                  매출액  2304009.0  2368070.0  2796048.0   \n",
            "1                                 매출원가  1472395.0  1444883.0  1664113.0   \n",
            "2                                매출총이익   831613.0   923187.0  1131935.0   \n",
            "3                판매비와관리비계산에 참여한 계정 펼치기   553928.0   563248.0   615596.0   \n",
            "4                                 영업이익   277685.0   359939.0   516339.0   \n",
            "5                           영업이익(발표기준)   277685.0   359939.0   516339.0   \n",
            "6                   금융수익계산에 참여한 계정 펼치기   101616.0   122676.0    85432.0   \n",
            "7                   금융원가계산에 참여한 계정 펼치기    82749.0   113181.0    77046.0   \n",
            "8                   기타수익계산에 참여한 계정 펼치기    17787.0    13841.0    22057.0   \n",
            "9                   기타비용계산에 참여한 계정 펼치기    14147.0    24889.0    20560.0   \n",
            "10  종속기업,공동지배기업및관계기업관련손익계산에 참여한 계정 펼치기     4130.0     5065.0     7296.0   \n",
            "11                            세전계속사업이익   304322.0   363451.0   533518.0   \n",
            "12                               법인세비용    86933.0    99373.0   134444.0   \n",
            "13                              계속영업이익   217389.0   264078.0   399075.0   \n",
            "14                              중단영업이익        NaN        NaN        NaN   \n",
            "15                               당기순이익   217389.0   264078.0   399075.0   \n",
            "16                             지배주주순이익   215051.0   260908.0   392438.0   \n",
            "17                            비지배주주순이익     2338.0     3170.0     6637.0   \n",
            "\n",
            "      2022/12       전년동기 전년동기(%)  \n",
            "0   3022314.0  2796048.0     8.1  \n",
            "1   1900418.0  1664113.0    14.2  \n",
            "2   1121896.0  1131935.0    -0.9  \n",
            "3    688130.0   615596.0    11.8  \n",
            "4    433766.0   516339.0   -16.0  \n",
            "5    433766.0   516339.0   -16.0  \n",
            "6    208290.0    85432.0   143.8  \n",
            "7    190277.0    77046.0   147.0  \n",
            "8     19621.0    22057.0   -11.0  \n",
            "9     17902.0    20560.0   -12.9  \n",
            "10    10906.0     7296.0    49.5  \n",
            "11   464405.0   533518.0   -13.0  \n",
            "12   -92136.0   134444.0    적자전환  \n",
            "13   556541.0   399075.0    39.5  \n",
            "14        NaN        NaN     NaN  \n",
            "15   556541.0   399075.0    39.5  \n",
            "16   547300.0   392438.0    39.5  \n",
            "17     9241.0     6637.0    39.2  \n",
            "                  IFRS(연결)    2019/12    2020/12    2021/12    2022/12\n",
            "0                       자산  3525645.0  3782357.0  4266212.0  4484245.0\n",
            "1       유동자산계산에 참여한 계정 펼치기  1813853.0  1982156.0  2181632.0  2184706.0\n",
            "2      비유동자산계산에 참여한 계정 펼치기  1711792.0  1800201.0  2084580.0  2299539.0\n",
            "3                  기타금융업자산        NaN        NaN        NaN        NaN\n",
            "4                       부채   896841.0  1022877.0  1217212.0   936749.0\n",
            "5       유동부채계산에 참여한 계정 펼치기   637828.0   756044.0   881171.0   783449.0\n",
            "6      비유동부채계산에 참여한 계정 펼치기   259013.0   266834.0   336041.0   153301.0\n",
            "7                  기타금융업부채        NaN        NaN        NaN        NaN\n",
            "8                       자본  2628804.0  2759480.0  3048999.0  3547496.0\n",
            "9   지배기업주주지분계산에 참여한 계정 펼치기  2549155.0  2676703.0  2962377.0  3451861.0\n",
            "10                 비지배주주지분    79649.0    82777.0    86622.0    95635.0\n",
            "                                IFRS(연결)   2019/12   2020/12   2021/12  \\\n",
            "0                           영업활동으로인한현금흐름  453829.0  652870.0  651054.0   \n",
            "1                                  당기순손익  217389.0  264078.0  399075.0   \n",
            "2                         법인세비용차감전계속사업이익       NaN       NaN       NaN   \n",
            "3             현금유출이없는비용등가산계산에 참여한 계정 펼치기  424268.0  461506.0  527991.0   \n",
            "4           (현금유입이없는수익등차감)계산에 참여한 계정 펼치기   49842.0   45321.0   37435.0   \n",
            "5   영업활동으로인한자산부채변동(운전자본변동)계산에 참여한 계정 펼치기  -25458.0    1224.0 -162869.0   \n",
            "6                           *영업에서창출된현금흐름  566358.0  681488.0  726762.0   \n",
            "7           기타영업활동으로인한현금흐름계산에 참여한 계정 펼치기 -112529.0  -28618.0  -75708.0   \n",
            "8                           투자활동으로인한현금흐름 -399482.0 -536286.0 -330478.0   \n",
            "9            투자활동으로인한현금유입액계산에 참여한 계정 펼치기   63008.0  155517.0  254825.0   \n",
            "10         (투자활동으로인한현금유출액)계산에 참여한 계정 펼치기  462489.0  691803.0  585303.0   \n",
            "11          기타투자활동으로인한현금흐름계산에 참여한 계정 펼치기       NaN       NaN       NaN   \n",
            "12                          재무활동으로인한현금흐름  -94845.0  -83278.0 -239910.0   \n",
            "13           재무활동으로인한현금유입액계산에 참여한 계정 펼치기    8658.0   22139.0     583.0   \n",
            "14         (재무활동으로인한현금유출액)계산에 참여한 계정 펼치기    7111.0    8649.0   35390.0   \n",
            "15          기타재무활동으로인한현금흐름계산에 참여한 계정 펼치기  -96392.0  -96768.0 -205104.0   \n",
            "16                        영업투자재무활동기타현금흐름       NaN      -1.0       1.0   \n",
            "17                       연결범위변동으로인한현금의증가       NaN       NaN       NaN   \n",
            "18                                환율변동효과    5953.0   -8339.0   15820.0   \n",
            "19                           현금및현금성자산의증가  -34545.0   24966.0   96488.0   \n",
            "20                            기초현금및현금성자산  303405.0  268860.0  293826.0   \n",
            "21                            기말현금및현금성자산  268860.0  293826.0  390314.0   \n",
            "\n",
            "     2022/12  \n",
            "0   621813.0  \n",
            "1   556541.0  \n",
            "2        NaN  \n",
            "3   497297.0  \n",
            "4   166562.0  \n",
            "5  -169989.0  \n",
            "6   717286.0  \n",
            "7   -95472.0  \n",
            "8  -316028.0  \n",
            "9   274660.0  \n",
            "10  590688.0  \n",
            "11       NaN  \n",
            "12 -193900.0  \n",
            "13    2720.0  \n",
            "14   98476.0  \n",
            "15  -98144.0  \n",
            "16       NaN  \n",
            "17       NaN  \n",
            "18   -5392.0  \n",
            "19  106493.0  \n",
            "20  390314.0  \n",
            "21  496807.0  \n"
          ]
        }
      ]
    },
    {
      "cell_type": "markdown",
      "source": [
        "view-source:https://comp.fnguide.com/SVO2/asp/SVD_Finance.asp?pGB=1&gicode={}&cID=&MenuYn=Y&ReportGB=&NewMenuID=103&stkGb=701"
      ],
      "metadata": {
        "id": "SD5ZesGvZQDF"
      }
    },
    {
      "cell_type": "code",
      "source": [
        "DCF1.IncomeSheet()\n",
        "  # Error의 원인 ['매출액', 2304009.0, 2368070.0, 2796048.0, 3022314.0]"
      ],
      "metadata": {
        "id": "KGcay8RBTjz7"
      },
      "execution_count": 83,
      "outputs": []
    },
    {
      "cell_type": "code",
      "source": [
        "DCF1.CashFlow()"
      ],
      "metadata": {
        "colab": {
          "base_uri": "https://localhost:8080/"
        },
        "id": "YhZ_Y9F1_9XT",
        "outputId": "6e817857-8ead-4207-969e-19ecebb590b8"
      },
      "execution_count": 84,
      "outputs": [
        {
          "output_type": "stream",
          "name": "stdout",
          "text": [
            "[253678, 375920, 471221, 494304] [265738, 271157, 312852, 359521] [30238, 32199, 29622, 31556]\n"
          ]
        }
      ]
    },
    {
      "cell_type": "code",
      "source": [
        "DCF1.BalanceSheet()"
      ],
      "metadata": {
        "id": "Y18SzOSrXNF3",
        "colab": {
          "base_uri": "https://localhost:8080/"
        },
        "outputId": "b1a9eb05-1422-46ed-b452-aacfbeb64097"
      },
      "execution_count": 85,
      "outputs": [
        {
          "output_type": "execute_result",
          "data": {
            "text/plain": [
              "[0, -61017, 96185, 81947]"
            ]
          },
          "metadata": {},
          "execution_count": 85
        }
      ]
    },
    {
      "cell_type": "code",
      "source": [
        "DCF1.FreeCashFlowtotheFirm() "
      ],
      "metadata": {
        "colab": {
          "base_uri": "https://localhost:8080/"
        },
        "id": "0HtIE7hACQPG",
        "outputId": "c7f8dafd-62b7-4341-bdee-4ccddf000468"
      },
      "execution_count": 86,
      "outputs": [
        {
          "output_type": "execute_result",
          "data": {
            "text/plain": [
              "[258893.08000000002, 269205.4199999999, 177812.42000000004, 153163.47999999998]"
            ]
          },
          "metadata": {},
          "execution_count": 86
        }
      ]
    },
    {
      "cell_type": "code",
      "source": [
        "class DiscountCashFlow2():\n",
        "  # def __init__(self):\n",
        "  \n",
        "  # def weightedAverageCapitalCost(self):"
      ],
      "metadata": {
        "id": "v9k_WUoWCGE7"
      },
      "execution_count": 72,
      "outputs": []
    }
  ]
}