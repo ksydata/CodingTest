{
  "nbformat": 4,
  "nbformat_minor": 0,
  "metadata": {
    "colab": {
      "provenance": []
    },
    "kernelspec": {
      "name": "python3",
      "display_name": "Python 3"
    },
    "language_info": {
      "name": "python"
    }
  },
  "cells": [
    {
      "cell_type": "markdown",
      "source": [
        "### 파이썬으로 배우는 수익률과 포트폴리오 성과측정지수\n",
        "\n",
        "파인드 알파 | Understanding of Risky Assets team 1 | 2nd Session\n",
        "\n",
        "Chap 5.1. 수익률, 할인율\n",
        "\n",
        "Chap 5.2. 위험프리미엄, 위험회피\n",
        "\n",
        "Chap 5.3. 글로벌, 미국의 주식, 채권 위험포트폴리오 선례\n",
        "\n",
        "Chap 5.4. 인플레이션과 실질이자율"
      ],
      "metadata": {
        "id": "Cm9OX3hTlTG7"
      }
    },
    {
      "cell_type": "code",
      "source": [
        "# 데이터 처리 모듈\n",
        "import pandas as pd\n",
        "import datetime as dt\n",
        "\n",
        "# 행렬 등 통계 모듈\n",
        "import numpy as np\n",
        "from scipy.stats import norm\n",
        "\n",
        "# 타입 어노테이션 모듈\n",
        "from typing import *\n",
        "\n",
        "# 주가지수, 시장주식가격 등을 읽어오는 모듈\n",
        "  # !pip install pykrx\n",
        "  # !pip install finance-datareader\n",
        "from pykrx import stock\n",
        "import FinanceDataReader as fdr\n",
        "\n",
        "# 시각화 모듈\n",
        "from matplotlib import font_manager, rc\n",
        "  # !sudo apt-get install -y fonts-nanum\n",
        "  # !sudo fc-cache -fv\n",
        "  # !rm ~ /.cache/matplotlib -rf\n",
        "import matplotlib.pyplot as plt\n",
        "from matplotlib import mlab\n",
        "import seaborn as sns"
      ],
      "metadata": {
        "id": "MuTCWfrF1ywT"
      },
      "execution_count": null,
      "outputs": []
    },
    {
      "cell_type": "code",
      "source": [
        "import platform\n",
        "\n",
        "if platform.system() == \"Darwin\":\n",
        "    rc(\"font\", family = \"AppleGothic\")\n",
        "\n",
        "elif platform.system() == \"Windows\":\n",
        "    path = \"C:/Windows/Fonts/malgun.ttf\"\n",
        "    font_name = font_manager.FontProperties(fname = path).get_name()\n",
        "    rc(\"font\", family = font_name)\n",
        "\n",
        "else:\n",
        "    print(\"Unknown system\")"
      ],
      "metadata": {
        "colab": {
          "base_uri": "https://localhost:8080/"
        },
        "id": "2nM07sLLPegC",
        "outputId": "61da3679-7260-4856-ee65-d769b6ef2e76"
      },
      "execution_count": null,
      "outputs": [
        {
          "output_type": "stream",
          "name": "stdout",
          "text": [
            "Unknown system\n"
          ]
        }
      ]
    },
    {
      "cell_type": "markdown",
      "source": [
        "##### 1. NPV(순현재가치)와 IRR(내부수익률)이 실제 시장 내 투자 기회의 수익성을 측정할 수 있을까\n",
        "\n",
        "* 투자기간(현금흐름기간)별 내부수익률에 변동성이 있다면 어떻게 보완해야하는지 즉, 현금 유출입 시점과 규모에 영향을 받는다는 한계를 가지고 있음\n",
        "* 주로 부동산 투자의사결정 관련 자본예산기법으로 활용되는바 real life의 데이터를 탐색하지 않기로 결정함\n",
        "\n",
        "* $ 순현재가치, \\ \\Sigma_{현재시점}^{만기}\n",
        "{\\frac{현금흐름(NOI)}{(1+할인율)^{투자기간}}} \\ - \\ 현금유출, \\ 투자금 = \\ 0 \\ (할인율 = 내부수익률) $\n",
        "\n",
        "* 자산운용사의 집합투자증권(펀드) 성과 측정\n",
        "\n",
        "  예) REITs(부동산투자회사) 투자 시 기준\n",
        "\n",
        "* 금융회사의 대출채권(여신상품) 수익률 측정\n"
      ],
      "metadata": {
        "id": "o-FlAypinW0y"
      }
    },
    {
      "cell_type": "markdown",
      "source": [
        "##### 2. 산술평균과 기하평균\n",
        "\n",
        "* 가중(산술)평균의 대표적 예인 재무분야의 WACC\n",
        "* 기하평균(곱의 평균)의 대표적인 예인 CAGR(기업 매출액 성장률)\n",
        "* T년 동안 연도별 수익률을 통해 연평균 수익률을 산출하려면 기하평균 수익률을 사용하여야 함\n",
        "*  _산술평균 수익률은 항상 기하평균 수익률보다 크거나 같음_\n"
      ],
      "metadata": {
        "id": "d0QW4WWFt7N-"
      }
    },
    {
      "cell_type": "code",
      "source": [
        "class Average:\n",
        "  def __init__(self, WACC = None, CAGR = None):\n",
        "    self._WACC = WACC\n",
        "    self._CAGR = CAGR\n",
        "      # 생성자로 WACC, CAGR 변수 초기화\n",
        "      # _ : [protected] 클래스 또는 상속클래스 내 메서드에서만 접근 허용하는 제어자\n",
        "      # __ : [private] 클래스 내 메서드에서만 접근 허용하는 제어자\n",
        "\n",
        "# ArithmetricAverage()\n",
        "# 산술평균의 예\n",
        "\n",
        "  def ArithmetricAverage(self, weight: np.array, cost: np.array) -> float:\n",
        "\n",
        "    # 가중평균자본비용(WACC)\n",
        "    WACC = sum(w*c for w, c in zip(weight, cost))\n",
        "      # 투자자의 요구수익률 = 자기자본비용*자기자본비중(우선주, 보통주) + 타인자본비용*타인자본비중(회사채)\n",
        "      # zip()으로 다수 리스트의 동일한 인덱스의 원소를 묶어 반복문 루프(for loop)을 활용\n",
        "\n",
        "    return WACC\n",
        "\n",
        "\n",
        "# GeometricAverage()\n",
        "# 기하평균의 예\n",
        "\n",
        "  def GeometricAverage(self, stockIndex: pd.DataFrame, column: int, p: int, f: int) -> float:\n",
        "\n",
        "    # 연평균성장률 / 연복리수익률(CAGR) : 기업매출액, 주가지수\n",
        "    HPR = stockIndex.iloc[f, column] / stockIndex.iloc[p, column]\n",
        "      # 기간수익률\n",
        "    delta = stockIndex.index[f] - stockIndex.index[p]\n",
        "    N = delta.days / 365\n",
        "      # 기간\n",
        "    CAGR = ( HPR ** (1/N) ) - 1\n",
        "\n",
        "    return CAGR"
      ],
      "metadata": {
        "id": "xrKUp22ct6r3"
      },
      "execution_count": null,
      "outputs": []
    },
    {
      "cell_type": "code",
      "source": [
        "# 한국 주식 데이터 스크래핑\n",
        "KOSPI_200102_231229 = stock.get_index_ohlcv_by_date(\"2020-01-01\",\n",
        "                                                    \"2023-01-01\",\n",
        "                                                    \"1001\")\n",
        "  # 시작일, 종료일, 코스피지수 ticker는 1001\n",
        "  # get_market_ohlcv_by_date() : 종목별 시세\n",
        "  # get_shorting_status_by_date(), get_shorting_volumne_by_date() : 종목별 공매도 거래\n",
        "\n",
        "# 한국 상장주식회사 종목코드\n",
        "stockcode = pd.read_html(\"http://kind.krx.co.kr/corpgeneral/corpList.do?method=download\", header=0)[0]\n",
        "\n",
        "# 예시 : 재보험사 코리안리의 종목코드 003690\n",
        "stockcode[[\"회사명\", \"종목코드\"]][stockcode[\"회사명\"] == \"코리안리\"]"
      ],
      "metadata": {
        "colab": {
          "base_uri": "https://localhost:8080/",
          "height": 81
        },
        "id": "szo9Q2g1AvfU",
        "outputId": "e6fb1445-9f58-4415-b10e-1c49fa2ced45"
      },
      "execution_count": null,
      "outputs": [
        {
          "output_type": "execute_result",
          "data": {
            "text/plain": [
              "       회사명  종목코드\n",
              "1353  코리안리  3690"
            ],
            "text/html": [
              "\n",
              "  <div id=\"df-15a2a6b6-5900-44a2-a541-a9b65f5beb79\">\n",
              "    <div class=\"colab-df-container\">\n",
              "      <div>\n",
              "<style scoped>\n",
              "    .dataframe tbody tr th:only-of-type {\n",
              "        vertical-align: middle;\n",
              "    }\n",
              "\n",
              "    .dataframe tbody tr th {\n",
              "        vertical-align: top;\n",
              "    }\n",
              "\n",
              "    .dataframe thead th {\n",
              "        text-align: right;\n",
              "    }\n",
              "</style>\n",
              "<table border=\"1\" class=\"dataframe\">\n",
              "  <thead>\n",
              "    <tr style=\"text-align: right;\">\n",
              "      <th></th>\n",
              "      <th>회사명</th>\n",
              "      <th>종목코드</th>\n",
              "    </tr>\n",
              "  </thead>\n",
              "  <tbody>\n",
              "    <tr>\n",
              "      <th>1353</th>\n",
              "      <td>코리안리</td>\n",
              "      <td>3690</td>\n",
              "    </tr>\n",
              "  </tbody>\n",
              "</table>\n",
              "</div>\n",
              "      <button class=\"colab-df-convert\" onclick=\"convertToInteractive('df-15a2a6b6-5900-44a2-a541-a9b65f5beb79')\"\n",
              "              title=\"Convert this dataframe to an interactive table.\"\n",
              "              style=\"display:none;\">\n",
              "        \n",
              "  <svg xmlns=\"http://www.w3.org/2000/svg\" height=\"24px\"viewBox=\"0 0 24 24\"\n",
              "       width=\"24px\">\n",
              "    <path d=\"M0 0h24v24H0V0z\" fill=\"none\"/>\n",
              "    <path d=\"M18.56 5.44l.94 2.06.94-2.06 2.06-.94-2.06-.94-.94-2.06-.94 2.06-2.06.94zm-11 1L8.5 8.5l.94-2.06 2.06-.94-2.06-.94L8.5 2.5l-.94 2.06-2.06.94zm10 10l.94 2.06.94-2.06 2.06-.94-2.06-.94-.94-2.06-.94 2.06-2.06.94z\"/><path d=\"M17.41 7.96l-1.37-1.37c-.4-.4-.92-.59-1.43-.59-.52 0-1.04.2-1.43.59L10.3 9.45l-7.72 7.72c-.78.78-.78 2.05 0 2.83L4 21.41c.39.39.9.59 1.41.59.51 0 1.02-.2 1.41-.59l7.78-7.78 2.81-2.81c.8-.78.8-2.07 0-2.86zM5.41 20L4 18.59l7.72-7.72 1.47 1.35L5.41 20z\"/>\n",
              "  </svg>\n",
              "      </button>\n",
              "      \n",
              "  <style>\n",
              "    .colab-df-container {\n",
              "      display:flex;\n",
              "      flex-wrap:wrap;\n",
              "      gap: 12px;\n",
              "    }\n",
              "\n",
              "    .colab-df-convert {\n",
              "      background-color: #E8F0FE;\n",
              "      border: none;\n",
              "      border-radius: 50%;\n",
              "      cursor: pointer;\n",
              "      display: none;\n",
              "      fill: #1967D2;\n",
              "      height: 32px;\n",
              "      padding: 0 0 0 0;\n",
              "      width: 32px;\n",
              "    }\n",
              "\n",
              "    .colab-df-convert:hover {\n",
              "      background-color: #E2EBFA;\n",
              "      box-shadow: 0px 1px 2px rgba(60, 64, 67, 0.3), 0px 1px 3px 1px rgba(60, 64, 67, 0.15);\n",
              "      fill: #174EA6;\n",
              "    }\n",
              "\n",
              "    [theme=dark] .colab-df-convert {\n",
              "      background-color: #3B4455;\n",
              "      fill: #D2E3FC;\n",
              "    }\n",
              "\n",
              "    [theme=dark] .colab-df-convert:hover {\n",
              "      background-color: #434B5C;\n",
              "      box-shadow: 0px 1px 3px 1px rgba(0, 0, 0, 0.15);\n",
              "      filter: drop-shadow(0px 1px 2px rgba(0, 0, 0, 0.3));\n",
              "      fill: #FFFFFF;\n",
              "    }\n",
              "  </style>\n",
              "\n",
              "      <script>\n",
              "        const buttonEl =\n",
              "          document.querySelector('#df-15a2a6b6-5900-44a2-a541-a9b65f5beb79 button.colab-df-convert');\n",
              "        buttonEl.style.display =\n",
              "          google.colab.kernel.accessAllowed ? 'block' : 'none';\n",
              "\n",
              "        async function convertToInteractive(key) {\n",
              "          const element = document.querySelector('#df-15a2a6b6-5900-44a2-a541-a9b65f5beb79');\n",
              "          const dataTable =\n",
              "            await google.colab.kernel.invokeFunction('convertToInteractive',\n",
              "                                                     [key], {});\n",
              "          if (!dataTable) return;\n",
              "\n",
              "          const docLinkHtml = 'Like what you see? Visit the ' +\n",
              "            '<a target=\"_blank\" href=https://colab.research.google.com/notebooks/data_table.ipynb>data table notebook</a>'\n",
              "            + ' to learn more about interactive tables.';\n",
              "          element.innerHTML = '';\n",
              "          dataTable['output_type'] = 'display_data';\n",
              "          await google.colab.output.renderOutput(dataTable, element);\n",
              "          const docLink = document.createElement('div');\n",
              "          docLink.innerHTML = docLinkHtml;\n",
              "          element.appendChild(docLink);\n",
              "        }\n",
              "      </script>\n",
              "    </div>\n",
              "  </div>\n",
              "  "
            ]
          },
          "metadata": {},
          "execution_count": 3
        }
      ]
    },
    {
      "cell_type": "code",
      "source": [
        "# 코스피지수 연평균성장률 : (목표금액 / 투자금액)^(1 / 투자기간) - 1\n",
        "\n",
        "average = Average()\n",
        "  # 클래스 Average의 인스턴스, average를 객체로 선언"
      ],
      "metadata": {
        "id": "9ozzQivdGvwj"
      },
      "execution_count": null,
      "outputs": []
    },
    {
      "cell_type": "code",
      "source": [
        "CompoundAnnualGrowthRate = average.GeometricAverage(KOSPI_200102_231229,\n",
        "                                                    KOSPI_200102_231229.columns.get_loc(\"종가\"),\n",
        "                                                    0,\n",
        "                                                    -1)\n",
        "print(f\"2020 ~ 2023년간 코스피지수의 연복리수익률은 {np.round(CompoundAnnualGrowthRate*100, 4)}%\")\n",
        "\n",
        "  # 에러 메시지\n",
        "    # [UnboundLocalError] local variable 'CAGR' referenced before assignment\n",
        "    # [TypeError] GeometricAverage() got multiple values for argument 'stockIndex'\n",
        "    # [TypeError] GeometricAverage() takes 4 positional arguments but 5 were given\n",
        "    # [TypeError] GeometricAverage() missing 1 required positional argument: 'f'"
      ],
      "metadata": {
        "id": "63ybBxViRKpD",
        "colab": {
          "base_uri": "https://localhost:8080/"
        },
        "outputId": "5705e9f1-0836-4cbe-c976-28d5d3283515"
      },
      "execution_count": null,
      "outputs": [
        {
          "output_type": "stream",
          "name": "stdout",
          "text": [
            "2020 ~ 2023년간 코스피지수의 연복리수익률은 0.9322%\n"
          ]
        }
      ]
    },
    {
      "cell_type": "markdown",
      "source": [
        "##### 3. VaR, RAROC\n",
        "\n",
        "* Value at Risk란 주어진 확률로 일정 기간동안 일어날 손실 규모로 수익률 분포가 정규분포를 따름을 전제로 함\n",
        "  \n",
        "  : 극단적 상황을 제외한 정상적(정구분포 가정) 상황에서 입을 수 있는 최대손실이지만 금융위기 기간을 표본으로부터 제외하는 것은 적합하지 않음\n",
        "\n",
        "  : VaR = 보유금액 * 수익률의 표준편차 * 신뢰수준별 임계값 * sqrt(보유기간)\n",
        "\n",
        "  $$ \\sigma_p = \\Sigma_i^n w_i^2 \\sigma_i^2 + \\Sigma_{i\\ !=j} w_iw_j (p_{ij}\\sigma_i\\sigma_j) $$\n",
        "\n",
        "* VaR의 목표기간은 어떻게 선택되어야 하는가?\n",
        "\n",
        "  : 포트폴리오 포지션 성과의 보고주기보다 길고, 재조정(리밸런싱) 주기보다 짧아야 함, 즉 포지션의 정상적 청산에 소요되는 기간을 감안하여 설정함\n",
        "\n",
        "* 실제 VaR 모형을 이용한 리스크 관리는 어떻게 수행되는가?\n",
        "\n",
        "  : 통상적으로 연초에 당해 연도에 준수되어야 할 VaR 한도를 설정한 후 연중에 실제 VaR이 한도를 넘지않도록 통제하는 방식, VaR 소진율은 관리지표 중 하나"
      ],
      "metadata": {
        "id": "B4E-j8ft6710"
      }
    },
    {
      "cell_type": "markdown",
      "source": [
        "* VaR 모수적 추정(분산-공분산 접근방식)\n",
        "  \n",
        "  자연로그 변환한 가격변화율 $ \\frac{P_t-P_t-1}{P_t-1} = ln(\\frac{P_t}{P_t-1}) $\n",
        "  \n",
        "  기하학적 시계열을 활용한 수익률 $ E(r_s) = \\Sigma p_s \\cdot r_s $\n",
        "\n",
        "  기하평균 수익률 $ r_g = [(1+r_1)(1+r_2]) ⋯ (1+r_T)]^{\\frac{1}{T}} - 1$\n",
        "  \n",
        "  수익률의 기댓값 $ E(r_g) = E(r_s) - \\frac{1}{2}\\sigma^2 $\n",
        "\n",
        "  분산(투자자산의 변동성 위험), 각 시나리오의 확률 $ p_s $와 동일한 가중치를 갖는 투자수익의 **가중평균분산** $ \\sigma^2 = \\Sigma p_s[r_s - E(r_s)]^2 $\n",
        "\n",
        "  VaR란 확률 a를 누적하는 손실의 최소금액 $ 1 - a = \\int_∞^{VaR} p(s)r(s)ds $\n"
      ],
      "metadata": {
        "id": "-914Q9oJBrcr"
      }
    },
    {
      "cell_type": "code",
      "source": [
        "# One-Asset VaR Computation\n",
        "class VaR():\n",
        "\n",
        "  def __init__(self, KOSPI = None, Ticker = None, ticker = None,\n",
        "               mean = None, std = None, from_date = None, to_date = None):\n",
        "    self.KOSPI = KOSPI\n",
        "    self.Ticker = Ticker\n",
        "    self.ticker = ticker\n",
        "    self.mean = mean\n",
        "    self.std = std\n",
        "\n",
        "    self.from_date = from_date\n",
        "    self.to_date = to_date\n",
        "\n",
        "# ImportIndex()\n",
        "# 시장인덱스 데이터를 클래스 내부에 캡슐화하는 함수\n",
        "  def ImportIndex(self,\n",
        "                  from_date: object, to_date: object,\n",
        "                  html: object, ticker: object):\n",
        "\n",
        "    # 2002년 01월 02일부터 2023년 02월 22일까지 KOSPI(유가증권시장지수)\n",
        "    self.KOSPI = stock.get_index_ohlcv_by_date(from_date,\n",
        "                                               to_date,\n",
        "                                               \"1001\")\n",
        "    self.from_date = from_date\n",
        "    self.to_date = to_date\n",
        "\n",
        "    # 한국 상장주식회사 종목코드\n",
        "    stockCode = pd.read_html(html, header=0)[0]\n",
        "    stockDict: Dict = {}\n",
        "\n",
        "    n_index = stockCode[stockCode[\"회사명\"] == ticker].index[0]\n",
        "    stockDict[ticker] = stockcode.iloc[n_index, 1]\n",
        "\n",
        "    return stockDict\n",
        "\n",
        "\n",
        "# ImportTicker()\n",
        "# 상장주식종목 데이터를 클래스 내부에 캡슐화하고, 누적 일간변동률을 시각화하는 함수\n",
        "\n",
        "  def ImportTicker(self,\n",
        "                   ticker: object, tickerCode: object):\n",
        "\n",
        "    self.Ticker = stock.get_market_ohlcv_by_date(self.from_date,\n",
        "                                                 self.to_date,\n",
        "                                                 tickerCode)\n",
        "    self.ticker = ticker\n",
        "\n",
        "    close = self.Ticker[\"종가\"]\n",
        "    rate = (close / close.shift(-1) -1) * 100\n",
        "      # 종가 / 전체 데이터를 1칸 앞으로 이동 - 1\n",
        "    rate.iloc[-1] = 0\n",
        "      # 일간 변동률 마지막 인덱스에 0 지정\n",
        "    self.Ticker[\"일간변동률\"] = rate\n",
        "\n",
        "    plt.figure(figsize = (8, 6))\n",
        "    plt.xlabel(\"Date\")\n",
        "    plt.ylabel(\"Stock Price Change\")\n",
        "    plt.plot(self.Ticker.index,\n",
        "             self.Ticker[\"일간변동률\"].cumsum(),\n",
        "             color = \"blue\",\n",
        "             label = ticker)\n",
        "    plt.grid()\n",
        "    plt.show()\n",
        "\n",
        "    print(f\"Distribution of {self.ticker} price fluctuation from {self.from_date} to {self.to_date}\")\n",
        "    self.mean = np.mean(self.Ticker[\"일간변동률\"])\n",
        "      # 일간변동률의 평균\n",
        "    self.std = np.std(self.Ticker[\"일간변동률\"])\n",
        "      # 일간변동률의 표준편차\n",
        "    x = np.linspace(self.mean - 3*self.std,\n",
        "                    self.mean + 3*self.std)\n",
        "      # 평균으로부터 왼쪽, 오른쪽으로 3*표준편차(99.7%)만큼 떨어진 값(지정된 구간)에서 균일한 간격으로 1차원 배열 반환\n",
        "    self.Ticker[\"일간변동률\"].hist(\n",
        "        bins = 40,\n",
        "        density = True,\n",
        "        histtype = \"stepfilled\",\n",
        "        alpha = 0.5)\n",
        "      # 일간변동률의 정규화된 히스토그램(빈도막대그래프)\n",
        "    plt.plot(x,\n",
        "            norm.pdf(x, self.mean, self.std), \"orange\")\n",
        "      # 정규분포를 따르는 x의 확률밀도함수(probability density function)\n",
        "      # 분포에서 값에 대응하는 확률값을 반환\n",
        "    plt.rcParams[\"axes.unicode_minus\"] = False\n",
        "    plt.rc(\"font\", family = \"Malgun Gothic\")\n",
        "      # 한글 깨짐 방지\n",
        "    # plt.title(f\"Distribution of {self.ticker} price fluctuation from {self.from_date} to {self.to_date}\")\n",
        "    plt.show()\n",
        "\n",
        "\n",
        "# GetVaR() with Variance-Covariance approach (norm dist)\n",
        "# GetVaR() with the Historical Simulation approach (quantile)\n",
        "\n",
        "  def GetVaR(self):\n",
        "  # 표본기간 : 1년, 2년, 3년, 5년, 10년, 15년\n",
        "  # 목표기간 : 1일, 1주, 2주, 1월\n",
        "  # 측정주기 : 표준측정법, 중복구간 측정법, 기간확장측정법\n",
        "  # 투자자산 : 개별주식이 아닌 다중자산 클래스 포트폴리오를 input으로 받는다면\n",
        "\n",
        "    VaR_significance_90 = norm.ppf(1-0.9, self.mean, self.std)\n",
        "    VaR_significance_95 = norm.ppf(1-0.95, self.mean, self.std)\n",
        "    VaR_significance_99 = norm.ppf(1-0.99, self.mean, self.std)\n",
        "      # 각 분포에서 알파값(확률값 a)에 대응하는 값을 반환(percent point function)\n",
        "\n",
        "    print(f\"목표기간 {self.from_date}부터 {self.to_date}까지 {self.ticker} 주가변동률의 신뢰수준 90% 내 손실규모는 {np.round(VaR_significance_90, 4)}%\")\n",
        "    print(f\"목표기간 {self.from_date}부터 {self.to_date}까지 {self.ticker} 주가변동률의 신뢰수준 95% 내 손실규모는 {np.round(VaR_significance_95, 4)}%\")\n",
        "    print(f\"목표기간 {self.from_date}부터 {self.to_date}까지 {self.ticker} 주가변동률의 신뢰수준 99% 내 손실규모는 {np.round(VaR_significance_99, 4)}%\")\n",
        "    print(f\"{self.ticker} 주가변동에 따른 실제 손실은 95% 신뢰구간 이내(5%의 오차를 감수하고) {np.round(VaR_significance_95, 4)}%를 초과하지 않는다.\")\n",
        "\n",
        "# def GetPortfolioVaR(self):"
      ],
      "metadata": {
        "id": "m8oMRZ6ji3-S"
      },
      "execution_count": null,
      "outputs": []
    },
    {
      "cell_type": "code",
      "source": [
        "Value_at_Risk = VaR()\n",
        "  # 클래스 VaR의 인스턴스, Value_at_Risk를 객체로 선언"
      ],
      "metadata": {
        "id": "P-oS03Og0UHL"
      },
      "execution_count": null,
      "outputs": []
    },
    {
      "cell_type": "code",
      "source": [
        "Value_at_Risk.ImportIndex(\n",
        "    from_date = \"2021-01-01\", to_date = \"2023-02-24\",\n",
        "    html = \"http://kind.krx.co.kr/corpgeneral/corpList.do?method=download\",\n",
        "    ticker = \"미래에셋증권\"\n",
        ")"
      ],
      "metadata": {
        "colab": {
          "base_uri": "https://localhost:8080/"
        },
        "id": "7Jh7t53a2NpK",
        "outputId": "1f322a0e-dccf-4e89-90a0-0427c07d12ea"
      },
      "execution_count": null,
      "outputs": [
        {
          "output_type": "execute_result",
          "data": {
            "text/plain": [
              "{'미래에셋증권': 6800}"
            ]
          },
          "metadata": {},
          "execution_count": 66
        }
      ]
    },
    {
      "cell_type": "code",
      "source": [
        "Value_at_Risk.ImportTicker(\n",
        "    ticker = \"미래에셋증권\",\n",
        "    tickerCode = \"006800\"\n",
        ")"
      ],
      "metadata": {
        "colab": {
          "base_uri": "https://localhost:8080/",
          "height": 654
        },
        "id": "Uv11Q05E2wRH",
        "outputId": "069bcd0f-b062-425a-8e59-2c1379c8739b"
      },
      "execution_count": null,
      "outputs": [
        {
          "output_type": "display_data",
          "data": {
            "text/plain": [
              "<Figure size 576x432 with 1 Axes>"
            ],
            "image/png": "[encoded data removed]"
          },
          "metadata": {
            "needs_background": "light"
          }
        },
        {
          "output_type": "stream",
          "name": "stdout",
          "text": [
            "Distribution of 미래에셋증권 price fluctuation from 2021-01-01 to 2023-02-24\n"
          ]
        },
        {
          "output_type": "display_data",
          "data": {
            "text/plain": [
              "<Figure size 432x288 with 1 Axes>"
            ],
            "image/png": "[encoded data removed]"
          },
          "metadata": {
            "needs_background": "light"
          }
        }
      ]
    },
    {
      "cell_type": "code",
      "source": [
        "Value_at_Risk.GetVaR()"
      ],
      "metadata": {
        "colab": {
          "base_uri": "https://localhost:8080/"
        },
        "id": "9Ddbfg4123-z",
        "outputId": "5edfb925-f8f3-4989-ef45-c07f0b541858"
      },
      "execution_count": null,
      "outputs": [
        {
          "output_type": "stream",
          "name": "stdout",
          "text": [
            "목표기간 2021-01-01부터 2023-02-24까지 미래에셋증권 주가변동률의 신뢰수준 90% 내 손실규모는 -2.1102%\n",
            "목표기간 2021-01-01부터 2023-02-24까지 미래에셋증권 주가변동률의 신뢰수준 95% 내 손실규모는 -2.7278%\n",
            "목표기간 2021-01-01부터 2023-02-24까지 미래에셋증권 주가변동률의 신뢰수준 99% 내 손실규모는 -3.8863%\n",
            "미래에셋증권 주가변동에 따른 실제 손실은 95% 신뢰구간 이내(5%의 오차를 감수하고) -2.72781%를 초과하지 않는다.\n"
          ]
        }
      ]
    },
    {
      "cell_type": "code",
      "source": [],
      "metadata": {
        "id": "cn3jJ_DaB7og"
      },
      "execution_count": null,
      "outputs": []
    },
    {
      "cell_type": "markdown",
      "source": [
        "##### 4. 단위당 초과성과를 나타내는 위험조정지표\n",
        "\n",
        "* 샤프비율(자본시장선 CML 기반) $ S = \\frac{수익률 - 무위험수익률}{수익률의 표준편차} = \\frac{E(r_p) - r_f}{\\sigma_p} $\n",
        "  \n",
        "  개별주식종목보다 투자자산 포트폴리오의 성과측정에 쓰이는 지표\n",
        "  \n",
        "* 젠센의 알파 (자본자산가격결정모형 CAPM 기반) $ a = 포트폴로오 수익률 - 기대수익률 $\n",
        "* 트레이너지수 (위험보상비율) $ T = \\frac{포트폴리오 수익률 - 무위험수익률}{포트폴리오 베타} $\n",
        "* 정보비율\n",
        "\n",
        "  $ \\frac{포트폴리오 수익률 - 벤치마크}{표준편차} $\n",
        "  \n",
        "  $ \\frac{젠센알파지수}{비체계적 위험(회귀식 잔차의 표준편차)} $"
      ],
      "metadata": {
        "id": "k9YEB9Ka7CEE"
      }
    },
    {
      "cell_type": "markdown",
      "source": [
        "* 포트폴리오 손익에 영향을 주는 투자자산의 리스크 요인이 발생할 확률(시장변수, 거래상대방의 신용상태 변동성)\n",
        "* 집합투자증권(펀드)의 위험도를 **\"월간 비용조정 수익률의 표준편차\", \"시장위험베타(24개월 펀드의 수익률을 이용한 시계열 회귀분석으로 추정)\", \"비체계적위험\", \"하방위험\", \"왜도(펀드 수익률의 3차 적률)\", \"첨도(펀드 수익률의 3차 적률)\"**로 측정할 수 있음\n",
        "* 펀드의 성과는 평균초과수익률( t월의 i펀드 수익률에서 t월의 무위험 이자율을 차감), 샤프비율, 시장모형 알파 등으로 측정함"
      ],
      "metadata": {
        "id": "Mr3Gx97Qe4rw"
      }
    },
    {
      "cell_type": "code",
      "source": [
        "\"\"\"\n",
        "\n",
        "# 샤프 비율을 최대화하는 각 연도의 포트폴리오 가중치를 구하는 함수\n",
        "\n",
        "stock: List = []\n",
        "  # 투자할 종목코드 리스트 생성\n",
        "return = np.log(raw[stock] / raw[stock].shift(1).dropna())\n",
        "  # 시계열에 대한 로그 수익률 계산\n",
        "(raw[stock] / raw[stock].iloc[0]).plot(figsize = (10, 8))\n",
        "  # 주식종목에 대한 정규화된 시계열 그래프 시각화\n",
        "\n",
        "weights = len(return.columns) * [1 / len(return.columns)]\n",
        "  # 종목별 균등한 가중치\n",
        "\n",
        "w = np.random.random(1000, len(stock))\n",
        "w = ( w.T / w.sum(axis = 1).T )\n",
        "  # 종목별 랜덤한 가중치 설정 (단, 공매도를 배제하고 100%를 채운다는 가정)\n",
        "\n",
        "portfolio_return = np.dot(\n",
        "  return.mean(),\n",
        "  weights\n",
        ") * 252\n",
        "  # 가중포트폴리오 수익률\n",
        "\n",
        "portffolio_volatility = np.dot(\n",
        "  weights, np.dot(return.cov() * 252, weights)\n",
        ") ** 0.5\n",
        "  # 가중포트폴리오의 변동성\n",
        "  # 행렬곱 연산자인 numpy.dot에 행(함수)으로 투자자산 수익률간 공분산 행렬, 벡터로 가중치\n",
        "  # 공분산 행렬과 가중치 행렬곱 벡터에 가중치 행을 행렬곱한 루트값은 포트폴리오의 변동성\n",
        "\n",
        "portfolio_sharpe = portfolio_return / portffolio_volatility\n",
        "  # 샤프비율\n",
        "portfolio_volatility_return = [portffolio_volatility,\n",
        "                               portfolio_return]\n",
        "\n",
        "plt.scatter(portfolio_volatility_return[:, 0],\n",
        "            portfolio_volatility_return[:, 1],\n",
        "            c = portfolio_sharpe,\n",
        "            cmap = \"coolwarm\")\n",
        "\n",
        "plt.xlabel(\"Expected volatility\")\n",
        "plt.ylabel(\"Expected return\")\n",
        "\t# 포트폴리오의 수익률, 변동성, 샤프비율에 대한 시각화\n",
        "\n",
        "\"\"\""
      ],
      "metadata": {
        "id": "3phADoW1mIdb"
      },
      "execution_count": null,
      "outputs": []
    },
    {
      "cell_type": "code",
      "source": [],
      "metadata": {
        "id": "xz-He_gVGsyA"
      },
      "execution_count": null,
      "outputs": []
    }
  ]
}