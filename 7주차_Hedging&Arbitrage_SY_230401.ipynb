{
  "nbformat": 4,
  "nbformat_minor": 0,
  "metadata": {
    "colab": {
      "provenance": []
    },
    "kernelspec": {
      "name": "python3",
      "display_name": "Python 3"
    },
    "language_info": {
      "name": "python"
    }
  },
  "cells": [
    {
      "cell_type": "markdown",
      "source": [
        "- **파생금융상품**\n",
        "    \n",
        "    시간에 따라 가치가 정량적으로 변화하는 기초자산에 얼마나/어떻게/어떤 방식으로 영향을 받으며, 파생금융상품의 가격은 기초자산 가격의 함수로서 표현된다. 파생상품은 자본시장에 존재하지 않은 현금흐름(기존의 금융투자상품으로는 만들 수 없는 현금흐름 패턴)을 만들어 낼 수 있는 빌딩블록을 제공한다. (투자자가 상황의 변화에 대응할 수 있다는 점)\n",
        "\n",
        "- **선물**\n",
        "    돈을 나중에 주기로 하고 물건을 지금 받으면 신용거래이며, 돈은 먼저 주고 물건을 나중에 받기로 하면 선물거래이다.\n",
        "    \n",
        "- **포트폴리오 관점에서 관련된 시장**\n",
        "    \n",
        "    위험요인(기초자산), 시장과 위험요인 간 상관관계, 그로 인해 가치가 평가되는 파생상품, 파생상품 포지션으로 구성된다.\n",
        "    \n",
        "- **금융공학에서 무위험차익거래의 논리가 중요한 이유**\n",
        "    \n",
        "    파생상품과 기초자산의 상호관계를 설명하는 논리이다. 즉, 무위험차익거래는 파생상품(선물 / 선도계약)의 공정가치 산출에 활용된다. 차익거래는 현물가격과 선물가격의 불균형 상태를 균형상태로 회복시킨다.\n",
        "    \n",
        "    차익거래 기회의 존재 여부를 살펴보기 위해서는 반드시 두 조건을 살펴보아야 한다.\n",
        "    \n",
        "    (1) 차익거래를 수행한 후 위험자산 포지션이 완전히 해소(청산)되어야 한다. 즉, 무위험이익이어야 한다.\n",
        "    \n",
        "    (2) 차익거래를 수행하는 과정에서 순투자비용이 0이어야 한다.\n",
        "    \n",
        "    예: 선도계약 매수(forward contract), 기초자산 공매도(short selling), 예금가입(cash)\n",
        "\n",
        "- **헷지의 목표와 수단의 선택**\n",
        "    \n",
        "    헷징을 통해 보유하고 있는 현물의 가격변동 리스크를 얼마나 잘 회피할 수 있는가를 의미한다. 가격변동에 노출된 리스크의 내용과 크기를 평가하는 작업을 수행한 후 헷징을 실행할 경우 효과와 비용을 검토한다.\n",
        "    \n",
        "    헷징은 선물, 선도계약, 옵션, 스왑과 같은 파생금융상품 등 다양한 수단을 통해 이루어진다. 효과적 헷징을 위해서는 헷징의 대상이 되는 기초자산(현물)과 헷징수단인 선물의 가격 간에 밀접한 관계가 있어야 한다.\n",
        "    \n",
        "    현물과 기초자산이 일치하는 것이 이상적이지만, 선물이 존재하지 않거나 거래량이 적고 가격간의 상관관계가 낮을 때는 헷징대상 현물과는 다른 기초자산을 대상으로 하는 선물로 헷징하기도 하는데, 이를 교차 헷징이라고 하며 대표적으로 회사채의 가격변동 리스크를 국채선물로 헷징하는 경우가 있다.\n",
        "    \n",
        "- **헷지비율**\n",
        "    \n",
        "    미래 현물가격 리스크를 조정하기 위해 헷징 대상이 되는 현물규모에 대한 선물계약 포지션 규모의 비율을 헷지비율이라고 한다.\n",
        "    \n",
        "    선물계약의 경우에는 일반적으로 (1) 헷징대상과 선물의 기초자산이 정확히 일치하지 않거나 (2) 헷징기간이 선물기간의 만기와 다르다.\n",
        "    \n",
        "    이런 경우에는 선물가격의 변동폭과 현물가격의 변동폭이 일치하지 않는 경우가 대부분이므로 헷지비율의 조정을 통해 두 포지션의 손익을 상쇄시켜야 한다.\n",
        "    \n",
        "- **베이시스와 헷징**\n",
        "    \n",
        "    베이시스란 현물가격 S와 선물가격 F의 차이로 정의된다. 만기까지의 기간이 길수록 베이시스는 확대되고 만기일이 가까워지면 0에 근접한다."
      ],
      "metadata": {
        "id": "7ckUVunV7_OV"
      }
    },
    {
      "cell_type": "code",
      "source": [
        "from google.colab import drive\n",
        "drive.mount('/content/drive')\n",
        "import pandas as pd\n",
        "  # 데이터 처리\n",
        "import numpy as np\n",
        "  # 선형대수, 행렬 연산 등\n",
        "import math\n",
        "from typing import *\n",
        "import requests\n",
        "import json, traceback\n",
        "from bs4 import BeautifulSoup as soup\n",
        "  # 크롤링할 때 url을 통해 웹페이지 html 문서 (문자열) 요청\n",
        "!pip install pykrx\n",
        "from pykrx import stock\n",
        "!pip install investpy\n",
        "import investpy\n",
        "  # 금융 데이터\n",
        "import re\n",
        "  # 정규표현식\n",
        "import time\n",
        "from datetime import datetime\n",
        "from dateutil.relativedelta import relativedelta\n",
        "  # 날짜형 타입 처리\n",
        "import matplotlib.pyplot as plt\n",
        "import seaborn as sns"
      ],
      "metadata": {
        "id": "J-4gNZvMBtCK"
      },
      "execution_count": null,
      "outputs": []
    },
    {
      "cell_type": "markdown",
      "source": [
        "#### 선물(Futures price) = Spot Price(1+r)^t - Benefits(1+r)^t + Cost(1+r)^t\n",
        "\n",
        "* Spot price of the Securities\n",
        "* Benefits like dividends earned\n",
        "* Financing Costs\n",
        "* Rate of interest\n",
        "* Time to expiry of the futures contract\n"
      ],
      "metadata": {
        "id": "w9AetLUqAzPy"
      }
    },
    {
      "cell_type": "code",
      "execution_count": null,
      "metadata": {
        "id": "i5iQRDB16g8I"
      },
      "outputs": [],
      "source": [
        "# 1. 선물의 이론가격\n",
        "\n",
        "def FuturesPrice(spot_price: float, # KOSPI200\n",
        "                 benefit: float, # 배당금\n",
        "                 cost: float, # 금융비용\n",
        "                 rate: float,\n",
        "                 time: float):\n",
        "  futures_price = (spot_price - benefit + cost) * math.pow(1+r, t)\n",
        "  return futures_price\n",
        "\n",
        "  # futures = securities * (1 + (r-d) * t/365)"
      ]
    },
    {
      "cell_type": "markdown",
      "source": [
        "#### 베이시스 헷지, 스프레드 거래\n",
        "\n",
        "* 선물계약 투자자 매수, 다른 투자자가 매도하여 선물계약 간 가격변동 차이에 따른 이익을 얻을 목적의 거래(같은 시장 / 다른 시장에서 선물의 근월물 원월물 사이 가격 차이 이용)\n",
        "\n",
        "* 출처\n",
        "  \n",
        "  https://www.investing.com/search/?q=futures&tab=quotes\n",
        "\n",
        "  https://oldnews.tistory.com/132\n",
        "\n",
        "  https://finance.naver.com/sise/sise_index.naver?code=FUT\n",
        "\n",
        "  https://law.kofia.or.kr/service/law/lawFullScreenContent.do?seq=274&historySeq=1119\n",
        "\n",
        "  https://www.yhs.co.kr/finance/derivative_spread.asp"
      ],
      "metadata": {
        "id": "eDJFBSd8GUfI"
      }
    },
    {
      "cell_type": "markdown",
      "source": [
        "#### 선물계약 만기시점에 따른 선물 ETF의 포트폴리오와 추적오차 (논문 구현)\n",
        "\n",
        "* 국내 운용사들이 채권의 경우 개당 가격이 비싸 국내 ETF의 사이즈로는 몇 개 살 수 없는 이유가 있으며 쿠폰이 발생할 때마다 현물 ETF의 경우 분배금을 지급하여야 한다. 따라서 국내 운용사들은 편의성과 선물 형태로 채권 ETF를 운용한다.\n",
        "\n",
        "* Spot Return(단순 선물가격 지수) | Excess Return(ER, 선물가격에 롤오버 시 발생하는 비용을 더한 지수) | Total Return(TR, 선물가격에서 롤오버 시 발생하는 비용과, 증거금 이외의 투자원금을 현금성 자산에 투자할 때의 이자수익을 반영하는 지수)"
      ],
      "metadata": {
        "id": "iORpmK30dtxL"
      }
    },
    {
      "cell_type": "code",
      "source": [
        "class FuturesETF():\n",
        "  # 기초자산\n",
        "  # 만기일\n",
        "  # 롤오버\n",
        "\n",
        "  def __init__(self, futures = None, stock_index = None):\n",
        "    self.futures = futures\n",
        "    self.stock_index = stock_index\n",
        "\n",
        "\n",
        "  def ImportData(self, start_date: str, end_date: str):\n",
        "  # KOSPI200 선물지수 > 9% 위탁증거금, Exposure 100%,\n",
        "    futures = pd.read_csv(\n",
        "        \"/content/drive/MyDrive/archive/data_find_alpha/KOSPI200_Futures.csv\",\n",
        "        index_col = False)\n",
        "    futures.sort_values(by = [\"날짜\"], inplace = True, ascending = True)\n",
        "      # KOSPI200 주가지수\n",
        "    futures.reset_index(drop = True, inplace = True)\n",
        "    stock_index = stock.get_index_ohlcv_by_date(start_date, end_date, \"1028\",\"d\")\n",
        "      # KOSPI200의 인덱스 번호 = 1028\n",
        "    stock_index[\"날짜\"] = stock_index.index\n",
        "    stock_index.reset_index(drop = True, inplace = True)\n",
        "\n",
        "    self.futures = futures\n",
        "    self.stock_index = stock_index\n",
        "\n",
        "    return self.futures, self.stock_index\n",
        "\n",
        "\n",
        "# def CrawlingData(self):\n",
        "  # [Trial & Error] 네이버 금융 : Get 방식\n",
        "    # url_futures = \"https://finance.naver.com/sise/sise_index.naver?code=FUT\"\n",
        "    # response_futures = requests.get(url_futures, \"lxml\")\n",
        "    # table_futures = pd.read_html(url_futures, encoding = \"euc-kr\")\n",
        "    # table_futures[2]\n",
        "\n",
        "  # [Trial & Error 2] Investing.com : Post 방식\n",
        "  # ctrl+shift+l > Network > Fetch/XHR > ???\n",
        "    # url_investing = \"https://kr.investing.com/Indices/korea-200-futures-historical-data\"\n",
        "    # headers = {\"User-Agent\" : \"Mozilla\", \"X-Requested-With\" : \"XMLHttpRequest\"}\n",
        "\n",
        "\n",
        "  def Basis(self):\n",
        "  # 현물가격 S와 선물가격 F의 차이인 베이시스는\n",
        "  # 만기까지의 기간이 길수록 확대되고 만기일이 가까워지면 0에 근접함을 확인\n",
        "    basis_data = pd.DataFrame()\n",
        "    basis_data[\"Datetime\"] = np.array(self.futures[\"날짜\"])\n",
        "    basis_data[\"KOSPI200_Futures_ETF\"] = np.array(self.futures[\"종가\"])\n",
        "    # basis_data[\"KOSPI200_Stock_Index\"] = np.array(self.stock_index[\"종가\"])\n",
        "\n",
        "    return basis_data, len(np.array(self.stock_index[\"종가\"]))\n",
        "\n",
        "    # plt.plot(basis_data[\"Datetime\"], basis_data[\"KOSPI200_Futures_ETF\"], color = \"blue\")\n",
        "    # plt.plot(basis_data[\"Datetime\"], basis_data[\"KOSPI200_Stock_Index\"], color = \"orange\")\n",
        "    # plt.show()\n",
        "\n",
        "\"\"\"\n",
        "  def Hypothesis1(self, start_date: str, end_date: str):\n",
        "  # 선물지수를 운용목표에 맞게 추종하는 선물지수 관련 ETF의 최근월물 선물계약 만기시기에\n",
        "  # 추적오차가 다른 시기의 추적오차보다 높게 나타나는지 여부 > t검정\n",
        "\n",
        "# def Hypothesis2(self, start_date: str, end_date: str):\n",
        "  # 가설1의 추적오차가 선물지수를 산출할 때 최근월물 선물계약과 차근월물 선물계약의 가중치*를\n",
        "  # 선물지수 관련 ETF 포트폴리오 운용에 잘 반영하지 않아서 나타나는 현상인지\n",
        "\n",
        "  # 단, 가중치를 결정할 때 변동성 모형을 구축하여야 하는바 향후 풀 수 있는 문제인 점을 확인\n",
        "\"\"\"\n",
        "\n",
        "\n",
        "\n"
      ],
      "metadata": {
        "id": "URjWwo9IIVcw"
      },
      "execution_count": null,
      "outputs": []
    },
    {
      "cell_type": "markdown",
      "source": [
        "```\n",
        "# [Trial & Error 2] Investing.com : Post 방식\n",
        "\n",
        "src: 600\n",
        "u: https://kr.investing.com/indices/korea-200-futures-historical-data\n",
        "pid: 4Lk0GuHzu6yU9\n",
        "cb: 9\n",
        "ws: 1x1\n",
        "v: 23.320.1710\n",
        "t: 2000\n",
        "slots: [{\"fc\":\"USD\",\"fp\":60,\"id\":\"Primis_Main\",\"mt\":\"v\"}]\n",
        "pubid: 62fc967f-c818-4721-8598-9825ab285d22\n",
        "gdprl: {\"status\":\"no-cmp\"}\n",
        "vm: {\"ids\":{\"id5\":\"ID5*QHi2xgC1FA-0_iFPE3HLVFmNAW0YX6JuFhl5K_fwK5JBOg5TbA2qr2WcZoE6LG76QbaBvsfLuL-D-UQ9qeCa9A\",\"pubcommon\":\"4c2bebe2-0ae3-400e-9a80-6f9c8c37d06b\",\"lotame\":\"7fc5b597f8f8e2d1656254c0494f16d53938e0ecea5cd46c3e55241dc90ab049\"}}\n",
        "```"
      ],
      "metadata": {
        "id": "5ym0kNwfWn4c"
      }
    },
    {
      "cell_type": "code",
      "source": [
        "finance = FuturesETF()"
      ],
      "metadata": {
        "id": "m6yc0Gv3NnzE"
      },
      "execution_count": null,
      "outputs": []
    },
    {
      "cell_type": "code",
      "source": [
        "futures, indices = finance.ImportData(start_date = \"20200301\", end_date = \"20230330\")"
      ],
      "metadata": {
        "id": "9kAJBnr20rfV"
      },
      "execution_count": null,
      "outputs": []
    },
    {
      "cell_type": "code",
      "source": [
        "futures[\"날짜\"]"
      ],
      "metadata": {
        "colab": {
          "base_uri": "https://localhost:8080/"
        },
        "id": "AcxaUpp4qSIz",
        "outputId": "5fcc0b6b-5036-493a-a0f5-7cc9f8d85fca"
      },
      "execution_count": null,
      "outputs": [
        {
          "output_type": "execute_result",
          "data": {
            "text/plain": [
              "0      2020- 03- 02\n",
              "1      2020- 03- 03\n",
              "2      2020- 03- 04\n",
              "3      2020- 03- 05\n",
              "4      2020- 03- 06\n",
              "           ...     \n",
              "757    2023- 03- 24\n",
              "758    2023- 03- 27\n",
              "759    2023- 03- 28\n",
              "760    2023- 03- 29\n",
              "761    2023- 03- 30\n",
              "Name: 날짜, Length: 762, dtype: object"
            ]
          },
          "metadata": {},
          "execution_count": 80
        }
      ]
    },
    {
      "cell_type": "code",
      "source": [
        "indices[\"날짜\"]"
      ],
      "metadata": {
        "colab": {
          "base_uri": "https://localhost:8080/"
        },
        "id": "7IoykdfIqUAt",
        "outputId": "2d268754-ae85-45b0-d9e8-26b32a6ff74c"
      },
      "execution_count": null,
      "outputs": [
        {
          "output_type": "execute_result",
          "data": {
            "text/plain": [
              "0     2020-03-02\n",
              "1     2020-03-03\n",
              "2     2020-03-04\n",
              "3     2020-03-05\n",
              "4     2020-03-06\n",
              "         ...    \n",
              "758   2023-03-24\n",
              "759   2023-03-27\n",
              "760   2023-03-28\n",
              "761   2023-03-29\n",
              "762   2023-03-30\n",
              "Name: 날짜, Length: 763, dtype: datetime64[ns]"
            ]
          },
          "metadata": {},
          "execution_count": 81
        }
      ]
    },
    {
      "cell_type": "code",
      "source": [
        "finance.Basis()"
      ],
      "metadata": {
        "id": "A_ZAW5EK08il"
      },
      "execution_count": null,
      "outputs": []
    }
  ]
}