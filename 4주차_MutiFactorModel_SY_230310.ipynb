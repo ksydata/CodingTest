{
  "nbformat": 4,
  "nbformat_minor": 0,
  "metadata": {
    "colab": {
      "provenance": []
    },
    "kernelspec": {
      "name": "python3",
      "display_name": "Python 3"
    },
    "language_info": {
      "name": "python"
    }
  },
  "cells": [
    {
      "cell_type": "markdown",
      "source": [
        "### 0. 모듈 불러오기"
      ],
      "metadata": {
        "id": "oEP8UD7RJiMu"
      }
    },
    {
      "cell_type": "code",
      "execution_count": 1,
      "metadata": {
        "colab": {
          "base_uri": "https://localhost:8080/",
          "height": 1000
        },
        "id": "dwOWOJgk4VEg",
        "outputId": "687e4b72-4f8f-4d27-ebcc-4f042c5e487d"
      },
      "outputs": [
        {
          "output_type": "stream",
          "name": "stdout",
          "text": [
            "Mounted at /content/drive\n",
            "Looking in indexes: https://pypi.org/simple, https://us-python.pkg.dev/colab-wheels/public/simple/\n",
            "Collecting pykrx\n",
            "  Downloading pykrx-1.0.40-py3-none-any.whl (125 kB)\n",
            "\u001b[2K     \u001b[90m━━━━━━━━━━━━━━━━━━━━━━━━━━━━━━━━━━━━━━━\u001b[0m \u001b[32m125.5/125.5 KB\u001b[0m \u001b[31m4.0 MB/s\u001b[0m eta \u001b[36m0:00:00\u001b[0m\n",
            "\u001b[?25hRequirement already satisfied: xlrd in /usr/local/lib/python3.9/dist-packages (from pykrx) (1.2.0)\n",
            "Collecting datetime\n",
            "  Downloading DateTime-5.0-py3-none-any.whl (52 kB)\n",
            "\u001b[2K     \u001b[90m━━━━━━━━━━━━━━━━━━━━━━━━━━━━━━━━━━━━━━━━\u001b[0m \u001b[32m52.1/52.1 KB\u001b[0m \u001b[31m5.0 MB/s\u001b[0m eta \u001b[36m0:00:00\u001b[0m\n",
            "\u001b[?25hRequirement already satisfied: requests in /usr/local/lib/python3.9/dist-packages (from pykrx) (2.25.1)\n",
            "Requirement already satisfied: pandas in /usr/local/lib/python3.9/dist-packages (from pykrx) (1.3.5)\n",
            "Collecting deprecated\n",
            "  Downloading Deprecated-1.2.13-py2.py3-none-any.whl (9.6 kB)\n",
            "Requirement already satisfied: numpy in /usr/local/lib/python3.9/dist-packages (from pykrx) (1.22.4)\n",
            "Collecting zope.interface\n",
            "  Downloading zope.interface-5.5.2-cp39-cp39-manylinux_2_5_x86_64.manylinux1_x86_64.manylinux_2_12_x86_64.manylinux2010_x86_64.whl (257 kB)\n",
            "\u001b[2K     \u001b[90m━━━━━━━━━━━━━━━━━━━━━━━━━━━━━━━━━━━━━━\u001b[0m \u001b[32m257.9/257.9 KB\u001b[0m \u001b[31m15.4 MB/s\u001b[0m eta \u001b[36m0:00:00\u001b[0m\n",
            "\u001b[?25hRequirement already satisfied: pytz in /usr/local/lib/python3.9/dist-packages (from datetime->pykrx) (2022.7.1)\n",
            "Requirement already satisfied: wrapt<2,>=1.10 in /usr/local/lib/python3.9/dist-packages (from deprecated->pykrx) (1.15.0)\n",
            "Requirement already satisfied: python-dateutil>=2.7.3 in /usr/local/lib/python3.9/dist-packages (from pandas->pykrx) (2.8.2)\n",
            "Requirement already satisfied: certifi>=2017.4.17 in /usr/local/lib/python3.9/dist-packages (from requests->pykrx) (2022.12.7)\n",
            "Requirement already satisfied: urllib3<1.27,>=1.21.1 in /usr/local/lib/python3.9/dist-packages (from requests->pykrx) (1.26.14)\n",
            "Requirement already satisfied: idna<3,>=2.5 in /usr/local/lib/python3.9/dist-packages (from requests->pykrx) (2.10)\n",
            "Requirement already satisfied: chardet<5,>=3.0.2 in /usr/local/lib/python3.9/dist-packages (from requests->pykrx) (4.0.0)\n",
            "Requirement already satisfied: six>=1.5 in /usr/local/lib/python3.9/dist-packages (from python-dateutil>=2.7.3->pandas->pykrx) (1.15.0)\n",
            "Requirement already satisfied: setuptools in /usr/local/lib/python3.9/dist-packages (from zope.interface->datetime->pykrx) (57.4.0)\n",
            "Installing collected packages: zope.interface, deprecated, datetime, pykrx\n",
            "Successfully installed datetime-5.0 deprecated-1.2.13 pykrx-1.0.40 zope.interface-5.5.2\n",
            "Looking in indexes: https://pypi.org/simple, https://us-python.pkg.dev/colab-wheels/public/simple/\n",
            "Collecting finance-datareader\n",
            "  Downloading finance_datareader-0.9.50-py3-none-any.whl (19 kB)\n",
            "Requirement already satisfied: requests>=2.3.0 in /usr/local/lib/python3.9/dist-packages (from finance-datareader) (2.25.1)\n",
            "Requirement already satisfied: tqdm in /usr/local/lib/python3.9/dist-packages (from finance-datareader) (4.65.0)\n",
            "Requirement already satisfied: lxml in /usr/local/lib/python3.9/dist-packages (from finance-datareader) (4.9.2)\n",
            "Requirement already satisfied: pandas>=0.19.2 in /usr/local/lib/python3.9/dist-packages (from finance-datareader) (1.3.5)\n",
            "Collecting requests-file\n",
            "  Downloading requests_file-1.5.1-py2.py3-none-any.whl (3.7 kB)\n",
            "Requirement already satisfied: python-dateutil>=2.7.3 in /usr/local/lib/python3.9/dist-packages (from pandas>=0.19.2->finance-datareader) (2.8.2)\n",
            "Requirement already satisfied: pytz>=2017.3 in /usr/local/lib/python3.9/dist-packages (from pandas>=0.19.2->finance-datareader) (2022.7.1)\n",
            "Requirement already satisfied: numpy>=1.17.3 in /usr/local/lib/python3.9/dist-packages (from pandas>=0.19.2->finance-datareader) (1.22.4)\n",
            "Requirement already satisfied: chardet<5,>=3.0.2 in /usr/local/lib/python3.9/dist-packages (from requests>=2.3.0->finance-datareader) (4.0.0)\n",
            "Requirement already satisfied: urllib3<1.27,>=1.21.1 in /usr/local/lib/python3.9/dist-packages (from requests>=2.3.0->finance-datareader) (1.26.14)\n",
            "Requirement already satisfied: idna<3,>=2.5 in /usr/local/lib/python3.9/dist-packages (from requests>=2.3.0->finance-datareader) (2.10)\n",
            "Requirement already satisfied: certifi>=2017.4.17 in /usr/local/lib/python3.9/dist-packages (from requests>=2.3.0->finance-datareader) (2022.12.7)\n",
            "Requirement already satisfied: six in /usr/local/lib/python3.9/dist-packages (from requests-file->finance-datareader) (1.15.0)\n",
            "Installing collected packages: requests-file, finance-datareader\n",
            "Successfully installed finance-datareader-0.9.50 requests-file-1.5.1\n",
            "Looking in indexes: https://pypi.org/simple, https://us-python.pkg.dev/colab-wheels/public/simple/\n",
            "Collecting yfinance\n",
            "  Downloading yfinance-0.2.12-py2.py3-none-any.whl (59 kB)\n",
            "\u001b[2K     \u001b[90m━━━━━━━━━━━━━━━━━━━━━━━━━━━━━━━━━━━━━━━━\u001b[0m \u001b[32m59.2/59.2 KB\u001b[0m \u001b[31m2.4 MB/s\u001b[0m eta \u001b[36m0:00:00\u001b[0m\n",
            "\u001b[?25hCollecting html5lib>=1.1\n",
            "  Downloading html5lib-1.1-py2.py3-none-any.whl (112 kB)\n",
            "\u001b[2K     \u001b[90m━━━━━━━━━━━━━━━━━━━━━━━━━━━━━━━━━━━━━━━\u001b[0m \u001b[32m112.2/112.2 KB\u001b[0m \u001b[31m5.9 MB/s\u001b[0m eta \u001b[36m0:00:00\u001b[0m\n",
            "\u001b[?25hRequirement already satisfied: numpy>=1.16.5 in /usr/local/lib/python3.9/dist-packages (from yfinance) (1.22.4)\n",
            "Requirement already satisfied: pandas>=1.3.0 in /usr/local/lib/python3.9/dist-packages (from yfinance) (1.3.5)\n",
            "Requirement already satisfied: multitasking>=0.0.7 in /usr/local/lib/python3.9/dist-packages (from yfinance) (0.0.11)\n",
            "Requirement already satisfied: pytz>=2022.5 in /usr/local/lib/python3.9/dist-packages (from yfinance) (2022.7.1)\n",
            "Requirement already satisfied: lxml>=4.9.1 in /usr/local/lib/python3.9/dist-packages (from yfinance) (4.9.2)\n",
            "Collecting cryptography>=3.3.2\n",
            "  Downloading cryptography-39.0.2-cp36-abi3-manylinux_2_28_x86_64.whl (4.2 MB)\n",
            "\u001b[2K     \u001b[90m━━━━━━━━━━━━━━━━━━━━━━━━━━━━━━━━━━━━━━━━\u001b[0m \u001b[32m4.2/4.2 MB\u001b[0m \u001b[31m40.9 MB/s\u001b[0m eta \u001b[36m0:00:00\u001b[0m\n",
            "\u001b[?25hCollecting requests>=2.26\n",
            "  Downloading requests-2.28.2-py3-none-any.whl (62 kB)\n",
            "\u001b[2K     \u001b[90m━━━━━━━━━━━━━━━━━━━━━━━━━━━━━━━━━━━━━━━━\u001b[0m \u001b[32m62.8/62.8 KB\u001b[0m \u001b[31m6.7 MB/s\u001b[0m eta \u001b[36m0:00:00\u001b[0m\n",
            "\u001b[?25hCollecting appdirs>=1.4.4\n",
            "  Downloading appdirs-1.4.4-py2.py3-none-any.whl (9.6 kB)\n",
            "Collecting frozendict>=2.3.4\n",
            "  Downloading frozendict-2.3.5-cp39-cp39-manylinux_2_17_x86_64.manylinux2014_x86_64.whl (112 kB)\n",
            "\u001b[2K     \u001b[90m━━━━━━━━━━━━━━━━━━━━━━━━━━━━━━━━━━━━━━\u001b[0m \u001b[32m112.8/112.8 KB\u001b[0m \u001b[31m11.6 MB/s\u001b[0m eta \u001b[36m0:00:00\u001b[0m\n",
            "\u001b[?25hCollecting beautifulsoup4>=4.11.1\n",
            "  Downloading beautifulsoup4-4.11.2-py3-none-any.whl (129 kB)\n",
            "\u001b[2K     \u001b[90m━━━━━━━━━━━━━━━━━━━━━━━━━━━━━━━━━━━━━━\u001b[0m \u001b[32m129.4/129.4 KB\u001b[0m \u001b[31m12.8 MB/s\u001b[0m eta \u001b[36m0:00:00\u001b[0m\n",
            "\u001b[?25hCollecting soupsieve>1.2\n",
            "  Downloading soupsieve-2.4-py3-none-any.whl (37 kB)\n",
            "Requirement already satisfied: cffi>=1.12 in /usr/local/lib/python3.9/dist-packages (from cryptography>=3.3.2->yfinance) (1.15.1)\n",
            "Requirement already satisfied: webencodings in /usr/local/lib/python3.9/dist-packages (from html5lib>=1.1->yfinance) (0.5.1)\n",
            "Requirement already satisfied: six>=1.9 in /usr/local/lib/python3.9/dist-packages (from html5lib>=1.1->yfinance) (1.15.0)\n",
            "Requirement already satisfied: python-dateutil>=2.7.3 in /usr/local/lib/python3.9/dist-packages (from pandas>=1.3.0->yfinance) (2.8.2)\n",
            "Collecting charset-normalizer<4,>=2\n",
            "  Downloading charset_normalizer-3.1.0-cp39-cp39-manylinux_2_17_x86_64.manylinux2014_x86_64.whl (199 kB)\n",
            "\u001b[2K     \u001b[90m━━━━━━━━━━━━━━━━━━━━━━━━━━━━━━━━━━━━━━\u001b[0m \u001b[32m199.2/199.2 KB\u001b[0m \u001b[31m20.4 MB/s\u001b[0m eta \u001b[36m0:00:00\u001b[0m\n",
            "\u001b[?25hRequirement already satisfied: certifi>=2017.4.17 in /usr/local/lib/python3.9/dist-packages (from requests>=2.26->yfinance) (2022.12.7)\n",
            "Requirement already satisfied: idna<4,>=2.5 in /usr/local/lib/python3.9/dist-packages (from requests>=2.26->yfinance) (2.10)\n",
            "Requirement already satisfied: urllib3<1.27,>=1.21.1 in /usr/local/lib/python3.9/dist-packages (from requests>=2.26->yfinance) (1.26.14)\n",
            "Requirement already satisfied: pycparser in /usr/local/lib/python3.9/dist-packages (from cffi>=1.12->cryptography>=3.3.2->yfinance) (2.21)\n",
            "Installing collected packages: appdirs, soupsieve, html5lib, frozendict, charset-normalizer, requests, cryptography, beautifulsoup4, yfinance\n",
            "  Attempting uninstall: html5lib\n",
            "    Found existing installation: html5lib 1.0.1\n",
            "    Uninstalling html5lib-1.0.1:\n",
            "      Successfully uninstalled html5lib-1.0.1\n",
            "  Attempting uninstall: requests\n",
            "    Found existing installation: requests 2.25.1\n",
            "    Uninstalling requests-2.25.1:\n",
            "      Successfully uninstalled requests-2.25.1\n",
            "  Attempting uninstall: beautifulsoup4\n",
            "    Found existing installation: beautifulsoup4 4.6.3\n",
            "    Uninstalling beautifulsoup4-4.6.3:\n",
            "      Successfully uninstalled beautifulsoup4-4.6.3\n",
            "Successfully installed appdirs-1.4.4 beautifulsoup4-4.11.2 charset-normalizer-3.1.0 cryptography-39.0.2 frozendict-2.3.5 html5lib-1.1 requests-2.28.2 soupsieve-2.4 yfinance-0.2.12\n"
          ]
        },
        {
          "output_type": "display_data",
          "data": {
            "application/vnd.colab-display-data+json": {
              "pip_warning": {
                "packages": [
                  "requests"
                ]
              }
            }
          },
          "metadata": {}
        },
        {
          "output_type": "stream",
          "name": "stdout",
          "text": [
            "Looking in indexes: https://pypi.org/simple, https://us-python.pkg.dev/colab-wheels/public/simple/\n",
            "Collecting pybind11\n",
            "  Downloading pybind11-2.10.3-py3-none-any.whl (222 kB)\n",
            "\u001b[2K     \u001b[90m━━━━━━━━━━━━━━━━━━━━━━━━━━━━━━━━━━━━━━━\u001b[0m \u001b[32m222.4/222.4 KB\u001b[0m \u001b[31m5.4 MB/s\u001b[0m eta \u001b[36m0:00:00\u001b[0m\n",
            "\u001b[?25hInstalling collected packages: pybind11\n",
            "Successfully installed pybind11-2.10.3\n",
            "Looking in indexes: https://pypi.org/simple, https://us-python.pkg.dev/colab-wheels/public/simple/\n",
            "Collecting riskfolio-lib\n",
            "  Downloading Riskfolio-Lib-4.0.3.tar.gz (12.9 MB)\n",
            "\u001b[2K     \u001b[90m━━━━━━━━━━━━━━━━━━━━━━━━━━━━━━━━━━━━━━━━\u001b[0m \u001b[32m12.9/12.9 MB\u001b[0m \u001b[31m73.0 MB/s\u001b[0m eta \u001b[36m0:00:00\u001b[0m\n",
            "\u001b[?25h  Preparing metadata (setup.py) ... \u001b[?25l\u001b[?25hdone\n",
            "Requirement already satisfied: numpy>=1.17.0 in /usr/local/lib/python3.9/dist-packages (from riskfolio-lib) (1.22.4)\n",
            "Requirement already satisfied: scipy>=1.0.1 in /usr/local/lib/python3.9/dist-packages (from riskfolio-lib) (1.10.1)\n",
            "Requirement already satisfied: pandas>=1.0.0 in /usr/local/lib/python3.9/dist-packages (from riskfolio-lib) (1.3.5)\n",
            "Requirement already satisfied: matplotlib>=3.3.0 in /usr/local/lib/python3.9/dist-packages (from riskfolio-lib) (3.5.3)\n",
            "Requirement already satisfied: cvxpy>=1.0.25 in /usr/local/lib/python3.9/dist-packages (from riskfolio-lib) (1.2.3)\n",
            "Requirement already satisfied: scikit-learn>=0.22.0 in /usr/local/lib/python3.9/dist-packages (from riskfolio-lib) (1.2.1)\n",
            "Requirement already satisfied: statsmodels>=0.10.1 in /usr/local/lib/python3.9/dist-packages (from riskfolio-lib) (0.13.5)\n",
            "Collecting arch>=4.15\n",
            "  Downloading arch-5.3.1-cp39-cp39-manylinux_2_17_x86_64.manylinux2014_x86_64.whl (907 kB)\n",
            "\u001b[2K     \u001b[90m━━━━━━━━━━━━━━━━━━━━━━━━━━━━━━━━━━━━━━━\u001b[0m \u001b[32m908.0/908.0 KB\u001b[0m \u001b[31m3.4 MB/s\u001b[0m eta \u001b[36m0:00:00\u001b[0m\n",
            "\u001b[?25hCollecting xlsxwriter>=1.3.7\n",
            "  Downloading XlsxWriter-3.0.9-py3-none-any.whl (152 kB)\n",
            "\u001b[2K     \u001b[90m━━━━━━━━━━━━━━━━━━━━━━━━━━━━━━━━━━━━━━\u001b[0m \u001b[32m152.8/152.8 KB\u001b[0m \u001b[31m14.6 MB/s\u001b[0m eta \u001b[36m0:00:00\u001b[0m\n",
            "\u001b[?25hRequirement already satisfied: networkx>=2.5.1 in /usr/local/lib/python3.9/dist-packages (from riskfolio-lib) (3.0)\n",
            "Requirement already satisfied: astropy>=4.3.1 in /usr/local/lib/python3.9/dist-packages (from riskfolio-lib) (4.3.1)\n",
            "Requirement already satisfied: pybind11>=2.10.1 in /usr/local/lib/python3.9/dist-packages (from riskfolio-lib) (2.10.3)\n",
            "Collecting property-cached>=1.6.4\n",
            "  Downloading property_cached-1.6.4-py2.py3-none-any.whl (7.8 kB)\n",
            "Requirement already satisfied: pyerfa>=1.7.3 in /usr/local/lib/python3.9/dist-packages (from astropy>=4.3.1->riskfolio-lib) (2.0.0.1)\n",
            "Requirement already satisfied: osqp>=0.4.1 in /usr/local/lib/python3.9/dist-packages (from cvxpy>=1.0.25->riskfolio-lib) (0.6.2.post0)\n",
            "Requirement already satisfied: ecos>=2 in /usr/local/lib/python3.9/dist-packages (from cvxpy>=1.0.25->riskfolio-lib) (2.0.12)\n",
            "Requirement already satisfied: scs>=1.1.6 in /usr/local/lib/python3.9/dist-packages (from cvxpy>=1.0.25->riskfolio-lib) (3.2.2)\n",
            "Requirement already satisfied: setuptools<=64.0.2 in /usr/local/lib/python3.9/dist-packages (from cvxpy>=1.0.25->riskfolio-lib) (57.4.0)\n",
            "Requirement already satisfied: kiwisolver>=1.0.1 in /usr/local/lib/python3.9/dist-packages (from matplotlib>=3.3.0->riskfolio-lib) (1.4.4)\n",
            "Requirement already satisfied: fonttools>=4.22.0 in /usr/local/lib/python3.9/dist-packages (from matplotlib>=3.3.0->riskfolio-lib) (4.39.0)\n",
            "Requirement already satisfied: packaging>=20.0 in /usr/local/lib/python3.9/dist-packages (from matplotlib>=3.3.0->riskfolio-lib) (23.0)\n",
            "Requirement already satisfied: cycler>=0.10 in /usr/local/lib/python3.9/dist-packages (from matplotlib>=3.3.0->riskfolio-lib) (0.11.0)\n",
            "Requirement already satisfied: pillow>=6.2.0 in /usr/local/lib/python3.9/dist-packages (from matplotlib>=3.3.0->riskfolio-lib) (8.4.0)\n",
            "Requirement already satisfied: pyparsing>=2.2.1 in /usr/local/lib/python3.9/dist-packages (from matplotlib>=3.3.0->riskfolio-lib) (3.0.9)\n",
            "Requirement already satisfied: python-dateutil>=2.7 in /usr/local/lib/python3.9/dist-packages (from matplotlib>=3.3.0->riskfolio-lib) (2.8.2)\n",
            "Requirement already satisfied: pytz>=2017.3 in /usr/local/lib/python3.9/dist-packages (from pandas>=1.0.0->riskfolio-lib) (2022.7.1)\n",
            "Requirement already satisfied: threadpoolctl>=2.0.0 in /usr/local/lib/python3.9/dist-packages (from scikit-learn>=0.22.0->riskfolio-lib) (3.1.0)\n",
            "Requirement already satisfied: joblib>=1.1.1 in /usr/local/lib/python3.9/dist-packages (from scikit-learn>=0.22.0->riskfolio-lib) (1.2.0)\n",
            "Requirement already satisfied: patsy>=0.5.2 in /usr/local/lib/python3.9/dist-packages (from statsmodels>=0.10.1->riskfolio-lib) (0.5.3)\n",
            "Requirement already satisfied: qdldl in /usr/local/lib/python3.9/dist-packages (from osqp>=0.4.1->cvxpy>=1.0.25->riskfolio-lib) (0.1.5.post3)\n",
            "Requirement already satisfied: six in /usr/local/lib/python3.9/dist-packages (from patsy>=0.5.2->statsmodels>=0.10.1->riskfolio-lib) (1.15.0)\n",
            "Building wheels for collected packages: riskfolio-lib\n",
            "  Building wheel for riskfolio-lib (setup.py) ... \u001b[?25l\u001b[?25hdone\n",
            "  Created wheel for riskfolio-lib: filename=Riskfolio_Lib-4.0.3-cp39-cp39-linux_x86_64.whl size=178547 sha256=2d4e0325fee360c14261dce1a4d0c240ca577e02d208873f283850a54f9eb694\n",
            "  Stored in directory: /root/.cache/pip/wheels/92/ea/e7/11b98922268bb34934514d425f7f2a563fc72e1fb7f768ef60\n",
            "Successfully built riskfolio-lib\n",
            "Installing collected packages: xlsxwriter, property-cached, arch, riskfolio-lib\n",
            "Successfully installed arch-5.3.1 property-cached-1.6.4 riskfolio-lib-4.0.3 xlsxwriter-3.0.9\n"
          ]
        }
      ],
      "source": [
        "# 데이터 처리, 선형대수와 행렬 등 연산 모듈\n",
        "import numpy as np\n",
        "import pandas as pd\n",
        "from datetime import datetime, timedelta\n",
        "import re\n",
        "import statsmodels.api as sm\n",
        "import statsmodels.formula.api as sm\n",
        "from statsmodels.formula.api import ols\n",
        "import missingno as msno\n",
        "from typing import *\n",
        "import pandas_datareader as web\n",
        "import pandas_datareader.data as web\n",
        "import pandas_datareader as pdr\n",
        "\n",
        "# 통계적 가설검정 모듈\n",
        "from scipy.stats import *\n",
        "from statsmodels.formula.api import ols\n",
        "from statsmodels.stats.stattools import durbin_watson\n",
        "\n",
        "# 코랩에 구글 드라이브 마운트\n",
        "from google.colab import drive\n",
        "drive.mount('/content/drive')\n",
        "\n",
        "# 데이터 시각화 모듈\n",
        "import seaborn as sns\n",
        "import matplotlib.pyplot as plt\n",
        "\n",
        "# 증권 데이터 웹스크래핑 모듈\n",
        "# !pip install --upgrade pandas\n",
        "# !pip install --upgrade pandas-datareader\n",
        "# !pip install lxml\n",
        "!pip install pykrx\n",
        "!pip install finance-datareader\n",
        "!pip install yfinance\n",
        "!pip install pybind11\n",
        "  # 의존성 모듈로 함께 설치할 것(https://riskfolio-lib.readthedocs.io/en/latest/install.html)\n",
        "!pip install riskfolio-lib\n",
        "\n",
        "import requests\n",
        "from bs4 import BeautifulSoup\n",
        "from pykrx import stock\n",
        "import pandas_datareader.famafrench as ff\n",
        "import FinanceDataReader as fdr\n",
        "import pandas_datareader as web\n",
        "from pandas_datareader.famafrench import get_available_datasets\n",
        "import yfinance as yf\n",
        "yf.pdr_override()\n",
        "import riskfolio as rp"
      ]
    },
    {
      "cell_type": "code",
      "source": [
        "# 한글 폰트 사용을 위해서 세팅\n",
        "\n",
        "from matplotlib import font_manager, rc\n",
        "font_path = r\"/content/drive/MyDrive/FindAlpha_RiskyAsset1/archive/korean.ttf\"\n",
        "  # 오류가 발생한다면, 경로를 \"/content/drive/FindAlpha_RiskyAsset1/archive/korean.ttf\"로 설정\n",
        "  # 혹은 로컬 폰트 경로인 \"C:\\\\WINDOWS\\FONTS\\malgun.ttf\"로 설정\n",
        "font = font_manager.FontProperties(fname = font_path).get_name()\n",
        "rc(\"font\", family = font)"
      ],
      "metadata": {
        "id": "hGhYOUUB99pP"
      },
      "execution_count": 2,
      "outputs": []
    },
    {
      "cell_type": "markdown",
      "source": [
        "출처\n",
        "* [김동영 외 1인, 삼성증권, Fama-French 3 Factor Model - 전후편, 2018](https://www.smallake.kr/wp-content/uploads/2018/08/Back_to_Basic_Fama-French_3_%ed%8c%a9%ed%84%b0_%eb%aa%a8%eb%8d%b8_-_%ed%9b%84%ed%8e%b820180703171930.pdf)\n",
        "* [FnGuide, Factor 포트폴리오 구성 방법](https://www.fnguide.com/download/Factor_Model_Methodology.pdf)\n",
        "* [Kenneth R. French, U.S. Research Returns Data](https://mba.tuck.dartmouth.edu/pages/faculty/ken.french/data_library.html)\n",
        "* [Steven Downey, How to Build a Multi-Factor Equity Portfolio in Python, Medium article](https://medium.com/swlh/how-to-build-a-multi-factor-equity-portfolio-in-python-4560fab3df7b)\n",
        "* [파이썬으로 배우는 포트폴리오](https://thebook.io/080227/ch06/05/02-02/)"
      ],
      "metadata": {
        "id": "c_YB-RawtpMi"
      }
    },
    {
      "cell_type": "markdown",
      "source": [
        "### 1. 자산배분을 최적화하는 요인모델, Fama-French Mutiple factor model\n",
        "(자본자산가격결정모형 CAPM과의 차이를 중심으로 이해)\n",
        "* 팩터에 기반한 전략적 자산배분(SAA)은 (수익률 등에 영향을 미치는) 자산군의 특성을 설명하는데 유용한 팩터를 선택한 후, 이들 팩터의 최적 배분 비중을 찾는 것이다. \n",
        "* 원칙적으로 베타(회귀계수)는 **최소 60종목 이상 일간 또는 주간이 아닌 월간 수익률 데이터**를 활용하여 산출하여야 한다."
      ],
      "metadata": {
        "id": "l0hgRNmiu3wL"
      }
    },
    {
      "cell_type": "code",
      "execution_count": null,
      "metadata": {
        "id": "miYZi3avtPdr"
      },
      "outputs": [],
      "source": [
        "class FamaFrenchModel():\n",
        "  \n",
        "  def __init__(self, html: str, from_date = None, to_date = None, \n",
        "               data_name = None, multiFactorModeling_portfolio_data = None):\n",
        "    self.html = html\n",
        "    self.from_date = from_date\n",
        "    self.to_date = to_date\n",
        "      # \"http://kind.krx.co.kr/corpgeneral/corpList.do?method=download\"\n",
        "    self.data_name = data_name\n",
        "    self.multiFactorModeling_portfolio_data = multiFactorModeling_portfolio_data\n",
        "    \n",
        "\n",
        "  def ImportNameList(self, filtering_word1: str, filtering_word2: str):\n",
        "\n",
        "  # 5요인 (R_market - R_free, HML, SMB, RMW, CMA) 데이터 셋 이름을 리스트에 담기\n",
        "    datasets = ff.get_available_datasets( )\n",
        "    data_name = [data for data in datasets if filtering_word1 in data and filtering_word2 in data]\n",
        "    print(data_name)\n",
        "    self.data_name = data_name\n",
        "      # filtering_word1, 2(키워드)를 입력하여 프렌치 교수의 데이터 셋 명을 담은 리스트를 생성함\n",
        "      # [input] {30, Industry} \n",
        "      # [output] ['30_Industry_Portfolios', '30_Industry_Portfolios_Wout_Div', '30_Industry_Portfolios_daily']\n",
        "    \n",
        "\n",
        "  def getStockCode(self, stock_list: List):\n",
        "\n",
        "  # 주식종목코드 데이터프레임 stock_code 생성\n",
        "    stock_code = pd.read_html(self.html, header = 0)[0]\n",
        "    stock_code = stock_code[[\"종목코드\", \"회사명\"]]\n",
        "    stock_code[\"종목코드\"] = stock_code[\"종목코드\"].apply(\n",
        "        lambda x: \"0\"*(6 - len(str(x))) + str(x))\n",
        "      # 주식종목코드는 int 타입(연속형)으로 6자리에 맞추기 위한 0 추가하는 익명함수\n",
        "    \n",
        "    for stocks in stock_list:\n",
        "      globals()[\"index_{}\".format(stocks)] = stock_code[stock_code[\"회사명\"] == stocks].index[0]\n",
        "        # 회사명이 self.stock인 주식종목코드가 있는 행을 index_stock에 저장함\n",
        "\n",
        "      globals()[\"code_{}\".format(stocks)] = stock_code.iloc[globals()[\"index_{}\".format(stocks)], 0]\n",
        "        # 입력받은 self.stock의 주식종목코드를 code_stock에 저장함\n",
        "      print(stocks, globals()[\"code_{}\".format(stocks)])\n",
        "\n",
        "    self.stock_list = stock_list\n",
        "\n",
        "\n",
        "  def ImportDataFrame(self, n: int, ticker_name: str, from_date: str, to_date: str):\n",
        "  \n",
        "  # 월별 5요인 데이터 불러오기 (Feature Variable, X vector)\n",
        "\n",
        "    # self.from_date = datetime.strptime(start, \"%Y, %m, %d\")\n",
        "    # self.to_date = datetime.strptime(end, \"%Y, %m, %d\")\n",
        "      # [ValueError] time data '2021,01,01' does not match format '%Y, %m, %d'\n",
        "\n",
        "    self.from_date = from_date\n",
        "    self.to_date = to_date\n",
        "\n",
        "    factor_data = web.DataReader(self.data_name[n],\n",
        "                                 \"famafrench\",\n",
        "                                 start = self.from_date,\n",
        "                                 end = self.to_date)\n",
        "    print(factor_data[\"DESCR\"])\n",
        "      # portfolio_name 리스트에서 n번째 원소를 인덱싱하여 from_date부터 to_date까지의 포트폴리오 데이터 셋을 딕셔너리 타입으로 내려받음\n",
        "    factor_data[0].index = factor_data[0].index.strftime(\"%Y-%m\")\n",
        "      # 인덱스의 종류를 YYYY-MM으로 날짜 형식 변환함\n",
        "    factor_data = factor_data[0]\n",
        "      # portfolio_data의 월별 5요인 데이터를 self.portfolio_data로 캡슐화함\n",
        "      # 팩터를 구성하기 위해 한 국가의 주식을 2개의 시가총액과 3개의 B/M, 영업이익률(OP) 및 투자(INV) 그룹으로 분류\n",
        "\n",
        "  # [Error] 자산포트폴리오 또는 개별증권의 월간 수익률 (Target Variable y)\n",
        "\n",
        "    # for ticker in self.stock_list:\n",
        "    stocks_data = stock.get_etf_ohlcv_by_date(fromdate = self.from_date, todate = self.to_date, ticker = ticker_name, freq = \"m\")\n",
        "    stocks_data.index = stocks_data.index.strftime(\"%Y-%m\")\n",
        "    factor_data[\"expected_return\"] = stocks_data[\"종가\"].pct_change().fillna(0)\n",
        "    # weight = np.ones(shape=(len(stocks_data.columns),)) / len(stocks_data.columns)\n",
        "\n",
        "    # close = web.get_data_yahoo(ticker, start = self.from_date, end = self.to_date, interval = \"m\")[\"Adj Close\"]\n",
        "    # close.index = close.index.strtime(\"%Y-%m\")\n",
        "    # return_data = np.log(close).pct_change()[ 1: ]\n",
        "      # yf.actions() : 배당, 분할 -> 수정주가 데이터로 해결할 수 있는 문제 (액면분할, 배당금, 권리행사 등의 영향을 반영)\n",
        "      # yf.cashflow() / earnings() / balance_sheet()\n",
        "\n",
        "    # multiFactorModeling_portfolio_data = pd.concat([return_data, factor_data], axis = 1, ignore_index = True)\n",
        "        \n",
        "    multiFactorModeling_portfolio_data = factor_data.copy()\n",
        "    multiFactorModeling_portfolio_data.rename(columns = {\"Mkt-RF\":\"market_excess_return\"}, inplace = True)\n",
        "    multiFactorModeling_portfolio_data[\"portfolio_excess_return\"] = multiFactorModeling_portfolio_data[\"expected_return\"] - multiFactorModeling_portfolio_data[\"RF\"]\n",
        "    self.multiFactorModeling_portfolio_data = multiFactorModeling_portfolio_data\n",
        "    return self.multiFactorModeling_portfolio_data\n",
        "\n",
        "\n",
        "  def preconditional_test(self):\n",
        "\n",
        "  # 전제조건 1: 정규성 검정(Anderson-Darling Test, Jarque-bera Test) ShapiroWilk Test, KS Test에 비해 덜 엄격한 검정\n",
        "    for column in self.multiFactorModeling_portfolio_data.select_dtypes(include = [\"int64\", \"float64\"]).columns.tolist():\n",
        "      anderson_result = anderson(self.multiFactorModeling_portfolio_data[column], dist = \"norm\")\n",
        "      if anderson_result[0] > anderson_result[1][2]:\n",
        "        # [0] 검정통계량(statistic)\n",
        "        # [1] 임계값(유의수준 a, 5% 이상이 되는 자리값, critical_values) \n",
        "        # [2] 임계값의 유의확률 p-value\n",
        "        # [1][2] 정규성 검정통계량이 유의수준 5% 검정통계량보다 클 경우, 정규분포를 따름\n",
        "        print(f\"{column}변수는 정규분포를 따르지 않는다\")\n",
        "      else: \n",
        "        print(f\"{column}변수는 정규분포를 따른다\")\n",
        "    print(\"\\n\")\n",
        "\n",
        "  # 전제조건 1: 정규성 검정(Jarque-bera Test) 왜도와 첨도를 이용한 검정\n",
        "    for column in self.multiFactorModeling_portfolio_data.select_dtypes(include = [\"int64\", \"float64\"]).columns.tolist():\n",
        "      jb_result = jarque_bera(self.multiFactorModeling_portfolio_data[column])\n",
        "      if jb_result[1] < 0.05:\n",
        "        print(f\"{column}변수는 정규분포를 따르지 않는다\")\n",
        "      else: \n",
        "        print(f\"{column}변수는 정규분포를 따른다\")\n",
        "    print(\"\\n\")\n",
        "\n",
        "\n",
        "  # 전제 조건 2: 등분산성 검정(정규성이 성립하지 않을 경우 Levene Test)\n",
        "    for column_1 in self.multiFactorModeling_portfolio_data.select_dtypes(include = [\"int64\", \"float64\"]).columns.tolist():\n",
        "      for column_2 in self.multiFactorModeling_portfolio_data.select_dtypes(include = [\"int64\", \"float64\"]).columns.tolist():\n",
        "        if column_1 != column_2:\n",
        "          levene_result = levene(self.multiFactorModeling_portfolio_data[column_1], self.multiFactorModeling_portfolio_data[column_2])\n",
        "          \n",
        "          if levene_result[1] < 0.05:\n",
        "            print(f\"{column_1}변수와 {column_2}변수의 이분산성은 통계적으로 유의하다\")\n",
        "          else:\n",
        "            print(f\"{column_1}변수와 {column_2}변수은 등분산성 조건이 성립한다\")\n",
        "        \n",
        "        else: # column_1 == column_2:\n",
        "          pass\n",
        "\n",
        "  # 전제 조건 3 : 다중공선성(multicollinearity)\n",
        "  # 독립변수 간 상관관계가 높으면 2가지 문제가 발생함\n",
        "  # (1) 유의해야 할 회귀계수 추정치가 유의하지 않게 추정됨\n",
        "  # (2) 회귀계수 추정치 부호가 반대로 유의하게 추정됨\n",
        "    correlation = self.multiFactorModeling_portfolio_data.drop(\"portfolio_excess_return\", axis = 1).corr()  \n",
        "      # 데이터프레임의 상관계수 행렬\n",
        "    mask = np.zeros_like(correlation, dtype = np.bool)\n",
        "      # 상관분석 히트맵 삼각형 마스크(위 쪽 삼각형에 True, 아래 삼각형에 False)\n",
        "    mask[np.triu_indices_from( mask )] = True\n",
        "    sns.heatmap(data = correlation, \n",
        "                cmap = \"GnBu_r\", \n",
        "                  # colormap 팔레트\n",
        "                annot = True, \n",
        "                  # 실제값 표시\n",
        "                fmt = \"0.01f\",\n",
        "                  # 소수점 둘째 자리까지 표시\n",
        "                mask = mask, \n",
        "                  # 표시하지 않을 위쪽 삼각형 마스크 부분 지정\n",
        "                linewidths = 0.5, \n",
        "                  # 경계면 실선으로 구분\n",
        "                vmin = -1,\n",
        "                vmax = 1\n",
        "                  # colorbar의 범위 -1 ~ 1로 지정\n",
        "                )\n",
        "      # 상관계수 히트맵\n",
        "    plt.show()\n",
        "\n",
        "  \n",
        "  def linearRegression(self, linearRegFormula: object):\n",
        "  \n",
        "  # (시계열) 다중선형회귀분석 모형 추정\n",
        "    FF_5factor_linearRegModel = sm.ols(\n",
        "        formula = linearRegFormula, data = self.multiFactorModeling_portfolio_data\n",
        "    ).fit()\n",
        "    print(FF_5factor_linearRegModel.summary())\n",
        "    print(FF_5factor_linearRegModel.params.apply(\n",
        "        lambda x: \n",
        "        (x - FF_5factor_linearRegModel.params.mean()) / FF_5factor_linearRegModel.params.std()))\n",
        "\n",
        "  # 전제 조건 4 : 잔차의 정규성 및 독립성 검정\n",
        "  # 회귀계수(모형식의 파라미터)의 편의가 발생하고 예측의 신뢰성이 낮아지는 오차의 자기상관관계가 없는지 Durbin Watson 검정\n",
        "    residual_jb_result = jarque_bera(FF_5factor_linearRegModel.resid)\n",
        "    if residual_jb_result[1] < 0.05:\n",
        "      print(\"회귀식의 잔차는 정규분포를 따르지 않는다\")\n",
        "    else: \n",
        "      print(\"회귀식의 잔차는 정규분포를 따른다\")\n",
        "    print(\"\\n\")\n",
        "    sns.distplot(x = FF_5factor_linearRegModel.resid)\n",
        "    plt.title(\"Residuals Histogram\")\n",
        "\n",
        "    print(f\"회귀식 잔차의 DW-통계량은 {round(durbin_watson(FF_5factor_linearRegModel.resid), 4)}이다\")\n",
        "      # 일반적으로 1.5 ~ 2.5사이 값이면 자기상관관계가 없어 독립이라고 판단함\n",
        "      # 0에 가까울수록 잔차들은 양의 자기상관을 가짐\n",
        "      # 2에 가까울수록 자기상관이 없어짐\n",
        "      # 2보다 크고 4에 가까워질수록 잔차들은 음의 자기상관을 가짐\n",
        "\n",
        "\"\"\"\n",
        "  # 결정계수 : 선행조건(train : test split and predict test with train model)\n",
        "  # 분산팽창인자 1 / 1 - R^2 (VIF: variance inflation factor), 10 이상이면 다중공선성 有\n",
        "\n",
        "    y_test, y_pred = 0, 0\n",
        "    SST = sum(y_test - y_test.mean())**2\n",
        "      # 편차의 제곱(Total Sum of Squqres) = 총변동\n",
        "    SSR = sum(y_pred - y_test.mean())**2\n",
        "      # 편차와 잔차의 차이 제곱(Regression sum of squares) = 추정회귀식으로 설명가능한 변동\n",
        "    SSE = sum(FF_5factor_linearRegModel.resid)**2\n",
        "      # 잔차의 제곱(Error Sum of Squares) = 회귀식으로 설명할 수 없는 변동\n",
        "    R_squared = (1 - SSE/SST)\n",
        "    k = len(self.multiFactorModeling_portfolio_data) - 1\n",
        "    n = FF_5factor_linearRegModel.nobs\n",
        "    Adjusted_R_squared = 1 - (SSE/(n-k-1)) / (SST/(n-1))\n",
        "\"\"\""
      ]
    },
    {
      "cell_type": "markdown",
      "source": [
        "```\n",
        "FF = FamaFrenchModel(html = \"http://kind.krx.co.kr/corpgeneral/corpList.do?method=download\")\n",
        "FF.ImportNameList(filtering_word1 = \"5\", filtering_word2 = \"Factor\")\n",
        "```\n",
        "```\n",
        "DF = FF.ImportDataFrame(n = -1, from_date = \"20210101\", to_date = \"20230101\", ticker_name = \"102110\") \n",
        "  # [102110] TIGER 200 ETF\n",
        "DF\n",
        "FF.preconditional_test()\n",
        "  # 선형회귀식 추정 전 모형 전제요건에 대한 가설검정 및 상관분석\n",
        "FF.linearRegression(linearRegFormula = \"portfolio_excess_return ~ market_excess_return + SMB + HML + RMW + CMA\")\n",
        "  # Fama French 5 Factors Model\n",
        "FF.linearRegression(linearRegFormula = \"portfolio_excess_return ~ market_excess_return\")\n",
        "  # Capital Asset Price Model\n",
        "```"
      ],
      "metadata": {
        "id": "hNXnxCZw4XiM"
      }
    },
    {
      "cell_type": "markdown",
      "source": [
        "---"
      ],
      "metadata": {
        "id": "UvLyu8Ni9Mc8"
      }
    },
    {
      "cell_type": "markdown",
      "source": [
        "### 2. 다요인모형에 대한 또 한 번의 문샷\n",
        "다중선형회귀계수 즉, 요인민감도를 통해 증권 투자로 특정위험을 감수하는 것에 대한 보상을 (위험/보상관계) 계량화한다. 단, 이때 리스크 팩터는 (1) 팩터의 견고함(robustness)과 (2) 팩터의 단순함을 갖추어야 한다. 결국 투자자는 새로운 팩터를 설계하고 테스트하면서 유효성을 검증하여야 할 것이다.\n",
        "\n",
        "팩터의 비중을 조절하면 횡적 리스크 모델(cross-sectional risk models), 팩터포트폴리오와 무위험자산의 비중을 동적으로 조절하면 종적 리스크 모델(time-series risk models)라고 한다."
      ],
      "metadata": {
        "id": "Gbg6SIwBVGs5"
      }
    },
    {
      "cell_type": "markdown",
      "source": [
        "![image.png](data:image/png;base64,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)"
      ],
      "metadata": {
        "id": "XC2ZAqMBmNCU"
      }
    },
    {
      "cell_type": "markdown",
      "source": [
        "예시 : 미래에셋자산운용의 미래에셋AI스마트베타EMP증권자투자신탁(주식-재간접형)\n",
        "\n",
        "장기적 초과수익이 기대되는 다양한 팩터(Factor) 비중을 인공지능 알고리즘 모델을 활용해서 투자\n",
        "\n",
        "예시 : 삼성 Factor 모델(매크로 다이나믹 모델) 기반의 포트폴리오 전략\n",
        "\n",
        "19/4/15 “팩터 모델의 구조와 해설: Factor Models for Asset Returns”\n",
        "\n",
        "21/1/11 “주식 스타일 Fact Book”\n",
        "\n",
        "21/7/16 “월간 팩터 추천 종목: 2021년 7월 ~ 8월”"
      ],
      "metadata": {
        "id": "d8vn-Nv6tyXP"
      }
    },
    {
      "cell_type": "markdown",
      "source": [
        "#### **Fama-French 3-팩터 모델**\n",
        "투자자산 또는 포트폴리오의 초과수익을 설명하는 2가지 팩터를 추가하여 확장한 CAPM(자본자산가격결정모형)\n",
        "* $ E(r_i) - r_f = a + B_{mkt}⋅MKT + B_{smb}⋅SMB + B_{hml}⋅HML $\n",
        "* 시장 팩터(MKT, Market Factor) 주식시장 내 모든 주식들을 포함한 포트폴리오의 시총가중\n",
        "수익률\n",
        "\n",
        "  (무위험수익률의 예 : 매월 월초 기준의 CD 91일물 금리)\n",
        "\n",
        "* 규모 팩터(SMB, Small Minus Big) 시가총액이 큰 주식 대비 시가총액(주식가격 * 발행주식 수)이 작은 주식의 초과수익률을 측정한다.\n",
        "* 가치 팩터(HML, High Minus Low) 성장주식 대비 초과가치 주식의 초과수익률을 측정한다. 가치주식은 높은 시장가 대비 장부가(Book to Market) 비율을 가지고 성장주식은 B/M비율이 낮다.\n",
        "* 회귀분석에서 종속변수로 활용되는 $ E(r_i) - r_f $는 다음과 같이 측정한다. 시가총액과 B/M비율을 활용하여 5x5,  주식포트폴리오 25개 형태로 만든다. 이는 각 t년 6월 말 주식을 시가총액 기준으로 5개 그룹으로 나누며 PBR의 역수인 B/M비율 기준으로 5개 그룹으로 나눈다. 그 다음 이들의 교집합을 통해 5x5 포트폴리오를 만든다. 이후 포트폴리오별 시가총액 가중수익률을 측정한다. "
      ],
      "metadata": {
        "id": "AvIM1L4_hZQp"
      }
    },
    {
      "cell_type": "markdown",
      "source": [
        "#### **Carhart 4-팩터 모델**\n",
        "투자자산 또는 포트폴리오의 초과수익을 설명하는 2가지 팩터를 추가하여 확장한 CAPM(자본자산가격결정모형)\n",
        "* $ E(r_i) - r_f = a + B_{mkt}⋅MKT + B_{smb}⋅SMB + B_{hml}⋅HML + B_{wml}⋅WML $\n",
        "* 시장 팩터(MKT, Market Factor)\n",
        "* 규모 팩터(SMB, Small Minus Big)\n",
        "* 가치 팩터(HML, High Minus Low)\n",
        "* 모멘텀 팩터(WML, Winners Minus Losers) 과거 12개월 동안의 loser 주식에 대한 winner 주식의 초과수익을 측정한다. "
      ],
      "metadata": {
        "id": "lbVOG4Beitlw"
      }
    },
    {
      "cell_type": "markdown",
      "source": [
        "#### **Fama-French 5-팩터 모델**\n",
        "투자자산 또는 포트폴리오의 초과수익을 설명하는 2가지 팩터를 추가하여 확장한 CAPM(자본자산가격결정모형)\n",
        "* $ E(r_i) - r_f = a + B_{mkt}⋅MKT + B_{smb}⋅SMB + B_{rmw}⋅RMW + B_{cma}⋅CMA $\n",
        "* 시장 팩터(MKT, Market Factor)\n",
        "* 규모 팩터(SMB, Small Minus Big)\n",
        "* 가치 팩터(HML, High Minus Low)\n",
        "* 수익성 팩터(RMW, Robust Minus Weak) 영업활동 현금흐름에 따른 영업이익 (이익인지 변화율인지 확인 필요)이 낮은 회사에 비해 높은 회사의 초과 수익률을 측정한다. \n",
        "* 투자 팩터(CMA, Conservative Minus Aggressive) 저투자정책 회사의 중급 이상 투자정책 회사 대비 초과 이익률을 측정한다.\n",
        "\n",
        "* FnGuide에 따르면 이외에도 배당성, 거시경제민감도, 단기 return, 저변동성, 종목의견 등의 팩터(스타일 리스크 팩터와 업종 리스크 팩터)가 있다. "
      ],
      "metadata": {
        "id": "Ac-ae5r7jamI"
      }
    },
    {
      "cell_type": "code",
      "source": [
        "# 네이버 금융, FnGuide에서 상장주식회사의 연결재무제표 데이터를 크롤링하는 함수\n",
        "# pykrx의 문제는 발행주식 수의 변화(액면분할)를 반영하지 못하면서 단순히 주가에서 EPS를 나눠주는 방법으로 PER 등을 계산\n",
        "\n",
        "class CrawlingFinancialData():\n",
        "  \n",
        "  def __init__(self, html_stock_code: str, url_naver_finance: str, \n",
        "               operating_profit_margin = None, net_profit_margin = None, return_on_equity = None, debt_ratio = None, price_to_book_value_ratio = None, divendend_payout_ratio = None):\n",
        "\n",
        "    self.html_stock_code = html_stock_code\n",
        "    self.url_naver_finance = url_naver_finance\n",
        "\n",
        "    self.operating_profit_margin = operating_profit_margin\n",
        "    self.net_profit_margin = net_profit_margin\n",
        "    self.return_on_equity = return_on_equity\n",
        "    self.debt_ratio = debt_ratio\n",
        "    self.price_to_book_value_ratio =  price_to_book_value_ratio\n",
        "    self.divendend_payout_ratio = divendend_payout_ratio\n",
        "\n",
        "\n",
        "# getStockCode() : 상장주식종목 코드번호를 html을 통해 데이터프레임 형태로 불러오는 함수\n",
        "  def getStockCode(self) -> pd.DataFrame:\n",
        "  \n",
        "  # 1. 상장지수 회사명 및 종목코드 데이터를 불러오기\n",
        "    KOSPI_code_list = pd.read_html(self.html_stock_code + \"?method=download&marketType=stockMkt\")[0]\n",
        "    KOSDAQ_code_list = pd.read_html(self.html_stock_code + \"?method=download&marketType=kosdaqMkt\")[0]\n",
        "    KOSPI_code_list = KOSPI_code_list[[\"회사명\", \"종목코드\"]]\n",
        "    KOSDAQ_code_list = KOSDAQ_code_list[[\"회사명\", \"종목코드\"]]\n",
        "      # 각 시장별 회사명, 종목코드만 추출\n",
        "    KOSPI_code_list[\"종목코드\"] = KOSPI_code_list[\"종목코드\"].apply(lambda x: \"0\"*(6 - len(str(x))) + str(x))\n",
        "    KOSDAQ_code_list[\"종목코드\"] = KOSDAQ_code_list[\"종목코드\"].apply(lambda x: \"0\"*(6 - len(str(x))) + str(x))\n",
        "      # 주식종목코드는 int 타입(연속형)으로 6자리에 맞추기 위한 0 추가하는 익명함수(lambda)\n",
        "\n",
        "  # 2. KOSPI, KOSDAQ 상장주식종목에서 리츠와 ETF를 제거\n",
        "  # 문자열 정규표현식에서 \"리츠\"와 \"스팩\"을 필터링하여 해당 행 번호를 추출하여 데이터프레임에서 삭제\n",
        "    KOSPI_code_list.drop(\n",
        "        KOSPI_code_list[KOSPI_code_list[\"회사명\"].str.contains(r\"(스팩)\") == True].index.tolist(), axis = 0, inplace = True)\n",
        "    KOSPI_code_list.drop(\n",
        "        KOSPI_code_list[KOSPI_code_list[\"회사명\"].str.contains(r\"(리츠)\") == True].index.tolist(), axis = 0, inplace = True)\n",
        "    KOSDAQ_code_list.drop(\n",
        "        KOSDAQ_code_list[KOSDAQ_code_list[\"회사명\"].str.contains(r\"(스팩)\") == True].index.tolist(), axis = 0, inplace = True)\n",
        "    KOSDAQ_code_list.drop(\n",
        "        KOSDAQ_code_list[KOSDAQ_code_list[\"회사명\"].str.contains(r\"(리츠)\") == True].index.tolist(), axis = 0, inplace = True)\n",
        "    return KOSPI_code_list, KOSDAQ_code_list\n",
        "\n",
        "\n",
        "# corporationBalanceSheetConnect() : 네이버 금융에서 KOSPI 상장주식종목 재무데이터를 크롤링하여 딕셔너리 형태로 불러오는 함수\n",
        "  def corporationBalanceSheetConnect(self, stock_code_list: pd.DataFrame):\n",
        "\n",
        "  # 3. 상장기업의 영업이익률, 순이익률, ROE, 부채비율, PBR(시가총액 / 순자산), 배당성향 각 데이터프레임 생성\n",
        "    operating_profit_margin = pd.DataFrame(index = range(0, 10), columns = stock_code_list[\"회사명\"])\n",
        "    net_profit_margin = pd.DataFrame(index = range(0, 10), columns = stock_code_list[\"회사명\"])\n",
        "    return_on_equity = pd.DataFrame(index = range(0, 10), columns = stock_code_list[\"회사명\"])\n",
        "    debt_ratio = pd.DataFrame(index = range(0, 10), columns = stock_code_list[\"회사명\"])\n",
        "    price_to_book_value_ratio = pd.DataFrame(index = range(0, 10), columns = stock_code_list[\"회사명\"])\n",
        "    divendend_payout_ratio = pd.DataFrame(index = range(0, 10), columns = stock_code_list[\"회사명\"])\n",
        "      # 배당성향 = 배당금 / 당기손익 * 100 (주주에 대한 이익사외분배율)\n",
        "\n",
        "  # 4. 네이버 금융 웹페이지를 크롤링하여 팩터 생성을 위한 분기, 연도별 6개 재무데이터프레임을 저장하는 반복문 수행\n",
        "    for index_stock_code in range(len(stock_code_list)):\n",
        "      try:\n",
        "        url_stock = \"https://finance.naver.com/item/main.nhn?code={}\".format(\n",
        "            stock_code_list[\"종목코드\"][ index_stock_code ])\n",
        "          # KeyError: 36, 39\n",
        "          # 매핑 (딕셔너리) 키가 기존 키 집합에서 발견되지 않을 때 발생\n",
        "        response_stock = requests.get(url_stock, headers = {\"User-agent\" : \"Mozilla/5.0\"})\n",
        "        html_stock = response_stock.text\n",
        "        soup_object_stock = BeautifulSoup(html_stock, \"lxml\")\n",
        "        html_finance = soup_object_stock.select(\"div.section.cop_analysis div.sub_section\")[0]\n",
        "          # CSS Selector\n",
        "          # IndexError: list index out of range\n",
        "        th_data_finance = [\n",
        "            element.get_text().strip() \n",
        "            for element in html_finance.select(\"thead th\")]\n",
        "        date_annual = th_data_finance[3:7]\n",
        "        date_quarter = th_data_finance[7:13]\n",
        "        date_finance = date_annual + date_quarter\n",
        "          # html 구조는 \"table\" > \"tbody\" > \"tr\" > \"th\" > \"strong\" tag\n",
        "          # 재무제표 날짜 정보 element를 html 웹페이지의 soup 객체에서 thead 태그와 th 태그에서 추출\n",
        "\n",
        "        index_finance = [\n",
        "            element.get_text().strip()\n",
        "            for element in html_finance.select(\"th.h_th2\")\n",
        "        ][3:]\n",
        "          # 재무정보 지표 element를 th태그의 h_th2 클래스에서 추출\n",
        "\n",
        "        td_data_finance = [\n",
        "            element.get_text().strip() \n",
        "            for element in html_finance.select('td')\n",
        "        ]\n",
        "          # 재무제표 계정과목의 데이터 element를 td 태그에서 추출\n",
        "        data_finance = np.array( td_data_finance )\n",
        "        data_finance.resize( len(index_finance), 10 )\n",
        "          # 재무제표 계정과목 데이터가 담긴 리스트를 넘파이 배열로 변환\n",
        "\n",
        "        final_data_finance = pd.DataFrame(\n",
        "            data = data_finance,\n",
        "            index = index_finance,\n",
        "            # columns = date_finance\n",
        "        ).T\n",
        "          # 최종 해당 종목코드의 상장기업의 재무 데이터프레임\n",
        "          # ValueError: cannot reindex from a duplicate axis\n",
        "\n",
        "        operating_profit_margin[ stock_code_list[\"회사명\"][index_stock_code] ] = final_data_finance[\"영업이익률\"]\n",
        "        net_profit_margin[ stock_code_list[\"회사명\"][index_stock_code] ] = final_data_finance[\"순이익률\"]\n",
        "        return_on_equity[ stock_code_list[\"회사명\"][index_stock_code] ] = final_data_finance[\"ROE(지배주주)\"]\n",
        "        debt_ratio[ stock_code_list[\"회사명\"][index_stock_code] ] = final_data_finance[\"부채비율\"]\n",
        "        price_to_book_value_ratio[ stock_code_list[\"회사명\"][index_stock_code] ] = final_data_finance[\"PBR(배)\"]\n",
        "        divendend_payout_ratio[ stock_code_list[\"회사명\"][index_stock_code] ] = final_data_finance[\"배당성향(%)\"]\n",
        "      \n",
        "      except (KeyError, IndexError) as error:\n",
        "        # print(error)\n",
        "        pass\n",
        "        # 딕셔너리 key 에러나 리스트의 index 에러가 있을 경우\n",
        "        # [continue] 바로 다음 순번의 for loop를 수행\n",
        "        # [pass] 실행할 코드가 없는 것으로 다음 행동을 수행\n",
        "        # [break] 반복문 종료\n",
        "\n",
        "    operating_profit_margin.index = date_finance\n",
        "    net_profit_margin.index = date_finance\n",
        "    return_on_equity.index = date_finance\n",
        "    debt_ratio.index = date_finance\n",
        "    price_to_book_value_ratio.index = date_finance\n",
        "    divendend_payout_ratio.index = date_finance\n",
        "      # 향후 index_to_datetime() 사용자 정의함수를 class 내부에서 멤버함수 간 공유하는 형태 또는\n",
        "      # self를 인자로 받지 않는 전역공간에 index_to_datetime()을 통해 기능이 반복되는 내용 자동화\n",
        "    \n",
        "    self.operating_profit_margin = operating_profit_margin\n",
        "    self.net_profit_margin = net_profit_margin\n",
        "    self.return_on_equity = return_on_equity\n",
        "    self.debt_ratio = debt_ratio\n",
        "    self.price_to_book_value_ratio = price_to_book_value_ratio\n",
        "    self.divendend_payout_ratio = divendend_payout_ratio\n",
        "\n",
        "\n",
        "  # 5. 각 시장별 재무데이터프레임을 datetime인덱스를 반영하여 csv 파일로 저장 \n",
        "  # 매번 크롤링해서 데이터를 불러오려면 13 ~ 15분 소요되므로 편의성을 위해 최초 1회만 실행\n",
        "  def KOSPI_dataframe_to_csvfile(self, googledrive_path: str):\n",
        "    self.operating_profit_margin.to_csv(\"{}/KOSPI_영업이익률.csv\".format(googledrive_path), index = True)\n",
        "    self.net_profit_margin.to_csv(\"{}/KOSPI_당기손익률.csv\".format(googledrive_path), index = True)\n",
        "    self.return_on_equity.to_csv(\"{}/KOSPI_자기자본이익률.csv\", index = True)\n",
        "    self.debt_ratio.to_csv(\"{}/KOSPI_부채비율.csv\", index = True)\n",
        "    self.price_to_book_value_ratio.to_csv(\"{}/KOSPI_주당순자산가치비율_PBR.csv\", index = True)\n",
        "    self.divendend_payout_ratio.to_csv(\"{}/KOSPI_배당성향.csv\", index = True)\n",
        "  \n",
        "\n",
        "  def KOSDAQ_dataframe_to_csvfile(self, googledrive_path: str):\n",
        "    self.operating_profit_margin.to_csv(\"{}/KOSDAQ_영업이익률.csv\".format(googledrive_path), index = True)\n",
        "    self.net_profit_margin.to_csv(\"{}/KOSPI_당기손익률.csv\".format(googledrive_path), index = True)\n",
        "    self.return_on_equity.to_csv(\"{}/KOSDAQ_자기자본이익률.csv\", index = True)\n",
        "    self.debt_ratio.to_csv(\"{}/KOSDAQ_부채비율.csv\", index = True)\n",
        "    self.price_to_book_value_ratio.to_csv(\"{}/KOSDAQ_주당순자산가치비율_PBR.csv\", index = True)\n",
        "    self.divendend_payout_ratio.to_csv(\"{}/KOSDAQ_배당성향.csv\", index = True)"
      ],
      "metadata": {
        "id": "btZx7IDpXIkV"
      },
      "execution_count": 123,
      "outputs": []
    },
    {
      "cell_type": "code",
      "source": [
        "ImportData = CrawlingFinancialData(\n",
        "    html_stock_code = \"https://kind.krx.co.kr/corpgeneral/corpList.do\",\n",
        "    url_naver_finance = \"https://finance.naver.com/sise/sise_market_sum.nhn\"\n",
        ")"
      ],
      "metadata": {
        "id": "t7xPkxuyDUEt"
      },
      "execution_count": 124,
      "outputs": []
    },
    {
      "cell_type": "code",
      "source": [
        "KOSPI_code_list, KOSDAQ_code_list = ImportData.getStockCode()"
      ],
      "metadata": {
        "colab": {
          "base_uri": "https://localhost:8080/"
        },
        "id": "6FDfZjDNuGF_",
        "outputId": "81794c7c-6501-4bae-8cb6-9386b4aa9184"
      },
      "execution_count": 127,
      "outputs": [
        {
          "output_type": "stream",
          "name": "stderr",
          "text": [
            "<ipython-input-123-1f74d653c2ae>:36: UserWarning: This pattern has match groups. To actually get the groups, use str.extract.\n",
            "  KOSPI_code_list[KOSPI_code_list[\"회사명\"].str.contains(r\"(스팩)\") == True].index.tolist(), axis = 0, inplace = True)\n",
            "<ipython-input-123-1f74d653c2ae>:38: UserWarning: This pattern has match groups. To actually get the groups, use str.extract.\n",
            "  KOSPI_code_list[KOSPI_code_list[\"회사명\"].str.contains(r\"(리츠)\") == True].index.tolist(), axis = 0, inplace = True)\n",
            "<ipython-input-123-1f74d653c2ae>:40: UserWarning: This pattern has match groups. To actually get the groups, use str.extract.\n",
            "  KOSDAQ_code_list[KOSDAQ_code_list[\"회사명\"].str.contains(r\"(스팩)\") == True].index.tolist(), axis = 0, inplace = True)\n",
            "<ipython-input-123-1f74d653c2ae>:42: UserWarning: This pattern has match groups. To actually get the groups, use str.extract.\n",
            "  KOSDAQ_code_list[KOSDAQ_code_list[\"회사명\"].str.contains(r\"(리츠)\") == True].index.tolist(), axis = 0, inplace = True)\n"
          ]
        }
      ]
    },
    {
      "cell_type": "code",
      "source": [
        "print(KOSPI_code_list, \"\\n\", KOSDAQ_code_list)"
      ],
      "metadata": {
        "colab": {
          "base_uri": "https://localhost:8080/"
        },
        "id": "NysH_sDauihf",
        "outputId": "c2958c98-1db4-4047-cc8f-19be19f52b5a"
      },
      "execution_count": 128,
      "outputs": [
        {
          "output_type": "stream",
          "name": "stdout",
          "text": [
            "            회사명    종목코드\n",
            "0         DRB동일  004840\n",
            "1           DSR  155660\n",
            "2            GS  078930\n",
            "3     HDC현대산업개발  294870\n",
            "4         KG케미칼  001390\n",
            "..          ...     ...\n",
            "820        현대위아  011210\n",
            "821     현대코퍼레이션  011760\n",
            "822  현대코퍼레이션홀딩스  227840\n",
            "823          화신  010690\n",
            "824        흥아해운  003280\n",
            "\n",
            "[801 rows x 2 columns] \n",
            "              회사명    종목코드\n",
            "0     CJ 바이오사이언스  311690\n",
            "1         DH오토웨어  025440\n",
            "2           ES큐브  050120\n",
            "4         KB오토시스  024120\n",
            "5          KH 전자  111870\n",
            "...          ...     ...\n",
            "1620          한탑  002680\n",
            "1621       해성옵틱스  076610\n",
            "1622     헥토이노베이션  214180\n",
            "1623      홈센타홀딩스  060560\n",
            "1624          힘스  238490\n",
            "\n",
            "[1554 rows x 2 columns]\n"
          ]
        }
      ]
    },
    {
      "cell_type": "code",
      "source": [
        "ImportData.corporationBalanceSheetConnect(stock_code_list = KOSDAQ_code_list)\n",
        "  # [stock_code_list] KOSPI_code_list, KOSDAQ_code_list"
      ],
      "metadata": {
        "id": "NN4TeQ4ztUUA"
      },
      "execution_count": null,
      "outputs": []
    },
    {
      "cell_type": "code",
      "source": [
        "ImportData.KOSDAQ_dataframe_to_csvfile(googledrive_path = \"/content/drive/MyDrive/FindAlpha_RiskyAsset1/data\")\n",
        "  # 에러날 경우 \"content/drive/FindAlpha_RiskyAsset1\"로 재실행"
      ],
      "metadata": {
        "id": "DEpZ5VLLuVvk"
      },
      "execution_count": null,
      "outputs": []
    },
    {
      "cell_type": "markdown",
      "source": [
        "---"
      ],
      "metadata": {
        "id": "32j8IeQI_wzg"
      }
    },
    {
      "cell_type": "markdown",
      "source": [
        "#### Trial & Error 1\n",
        "\n",
        "```\n",
        "url_stock = \"https://finance.naver.com/item/main.naver?code=\" + KOSPI_code_list[\"종목코드\"][0]\n",
        "  # html 문서의 tag 내 <href> 속성값을 가져와 url_bs_data에 저장\n",
        "  # [NAVER] view-source:https://finance.naver.com/ + item/main.naver?code=035420\n",
        "  # 링크를 읽어와서 딕셔너리 형태로 참조함\n",
        "request_get_stock = requests.get(url_stock, headers = {\"User-agent\" : \"Mozilla/5.0\"})\n",
        "soup_object_stock = BeautifulSoup(request_get_stock.text, \"lxml\")\n",
        "\n",
        "parameter_list: List = [\"영업이익률\", \"순이익률\", \"ROE(지배주주)\", \"PBR(배)\", \"배당성향(%)\"]\n",
        "    # 배당성향 = 배당금 / 당기손익 * 100 (주주에 대한 이익사외분배율)\n",
        "\n",
        "for parameter_text in parameter_list:\n",
        "  if soup_object_stock.find(\"strong\", text = parameter_text) is not None:\n",
        "  parameter = \" \".join(soup_object_stock.find(\"strong\", text = parameter_text).parent[\"class\"])  \n",
        "      # html 구조는 \"table\" > \"tbody\" > \"tr\" > \"th\" > \"strong\" tag\n",
        "      # 파라미터에 parent 노드로 이동하여 상위 <th> 태그로 이동\n",
        "\n",
        "# 3. 클래스명이 h_th2 th_cop_anal8인 상위 element로 이동 후 하위 td element값을 가져와 리스트에 저장\n",
        "  # <th scope=\"row\" class=\"h_th2 th_cop_anal8\"><strong>매출액</strong></th>\n",
        "    # <td class=\"\"> 53,041\n",
        "\n",
        "  tbody_stock = soup_object_stock.find(\"table\", attrs = {\"class\" : \"tb_type1 tb_num tb_type1_ifrs\"}).find(\"tbody\")\n",
        "  title_stock = soup_object_stock.find(\"th\", attrs = {\"class\" : parameter})\n",
        "    # 파라미터에 매핑되는 row 검색하여 상위 <td> 태그로 이동 후 해당 row의 모든 td 컬럼 가져와 parameter_data에 저장\n",
        "    # attrs = {\"class\" : \"~\"}는 class의 속성의 값(attributes)이 \"~\"를 가지는 <th> 태그의 element 가져오기\n",
        "\n",
        "  parameter_data = soup_object_stock.find(\"th\", attrs = {\"class\" : parameter}).parent.find_all(\"td\")\n",
        "  parameter_value = [data.get_text().strip() for data in parameter_data]\n",
        "    # parameter_data 내 각 컬럼을 data변수로 지정 후 좌우공백제거를 반복하는 for문 리스트 컴프리핸션 수행\n",
        "\n",
        "  thead_stock = soup_object_stock.find(\"table\", attrs = {\"class\" : \"tb_type1 tb_num tb_type1_ifrs\"})\n",
        "\n",
        "  else: pass\n",
        "\n",
        "# 4. 각 재무 데이터의 시점(연간, 분기 연월 정보) 가져오기\n",
        "  # <table summary=\"기업실적분석에 관한표이며 주요재무정보를 최근 연간 실적, 분기 실적에 따라 정보를 제공합니다.\" class=\"tb_type1 tb_num tb_type1_ifrs\">\n",
        "\t\t# <caption>기업실적분석 테이블</caption>\n",
        "\n",
        "  if thead_stock is not None:\n",
        "    datetime_stock = thead_stock.find(\"thead\").find_all(\"th\", attrs = {\"scope\" : \"col\", \"class\" : \"\"})\n",
        "  else: # thead_stock is None\n",
        "    continue\n",
        "```"
      ],
      "metadata": {
        "id": "pk6xh-2H7QxX"
      }
    },
    {
      "cell_type": "markdown",
      "source": [
        "#### Trial & Error 2\n",
        "\n",
        "```\n",
        "re_encparam = re.compile(\"encparam: '(.*)'\", re.IGNORECASE)\n",
        "re_id = re.compile(\"id: '([a-zA-Z0-9]*)' ?\", re.IGNORECASE)\n",
        "url_stock = \"http://companyinfo.stock.naver.com/v1/company/c1010001.aspx?cmp_cd={}\".format(KOSPI_code_list[\"종목코드\"][0])\n",
        "html_stock = requests.get(url_stock).text\n",
        "encparam = re_encparam.search(html_stock).group(1)\n",
        "encid = re_id.search(html_stock).group(1)\n",
        "\n",
        "url_stock_enc = \"http://companyinfo.stock.naver.com/v1/company/ajax/cF1001.aspx?cmp_cd={}&fin_typ=0&freq_typ=A&encparam={}&id={}\".format(KOSPI_code_list[\"종목코드\"][0], encparam, encid) \n",
        "html_stock_enc = requests.get(url_stock_enc, headers = {\"Referer\": \"HACK\"}).text\n",
        "\n",
        "dfs = pd.read_html(html_stock_enc)\n",
        "df_quarter = dfs[1]['분기분기컨센서스보기']\n",
        "df_year = dfs[1][\"연간연간컨센서스보기\"]\n",
        "  # pandas read_html()을 통해 html 태그 중 table 태그를 데이터프레임으로 변환\n",
        "\n",
        "df = pd.concat([df_quarter, df_year], axis = 1)\n",
        "df.drop([\"2022/12(E)  (IFRS연결)\", \"2022/12(E)  (IFRS연결)\"], axis = 1, inplace = True)\n",
        "df.index = dfs[1]['주요재무정보'].values.flatten()\n",
        "  # 다시 리스트로 반환\n",
        "df = df.T\n",
        "  # 행렬 전환\n",
        "```"
      ],
      "metadata": {
        "id": "uSyLzg5wGgmx"
      }
    },
    {
      "cell_type": "markdown",
      "source": [
        "#### Trial & Error 3\n",
        "OpenDart의 개인용 API Key의 일일호출제한은 1만건"
      ],
      "metadata": {
        "id": "xlKVUAo2KLv7"
      }
    },
    {
      "cell_type": "markdown",
      "source": [
        "---"
      ],
      "metadata": {
        "id": "Y_uCS24Mw1XH"
      }
    },
    {
      "cell_type": "code",
      "source": [
        "class getFactorData():\n",
        "\n",
        "  def __init__(self, 영업이익률, 당기손익률, 자기자본이익률, 부채비율, 주당순자산가치비율, 배당성향):\n",
        "\n",
        "    self.영업이익률 = 영업이익률\n",
        "    self.당기손익률 = 당기손익률\n",
        "    self.자기자본이익률 = 자기자본이익률\n",
        "    self.부채비율 = 부채비율\n",
        "    self.주당순자산가치비율 = 주당순자산가치비율\n",
        "    self.배당성향 = 배당성향\n",
        "\n",
        "  def readStockPriceData(self):\n",
        "    "
      ],
      "metadata": {
        "id": "WdVaisq_xXNo"
      },
      "execution_count": null,
      "outputs": []
    },
    {
      "cell_type": "code",
      "source": [
        "factor = getFactorData(\n",
        "    영업이익률 = pd.read_csv(\"/content/drive/MyDrive/FindAlpha_RiskyAsset1/data/KOSPI_영업이익률.csv\")\n",
        "    당기손익률 = pd.read_csv(\"/content/drive/MyDrive/FindAlpha_RiskyAsset1/data/KOSPI_당기손익률.csv\")\n",
        "    자기자본이익률 = pd.read_csv(\"/content/drive/MyDrive/FindAlpha_RiskyAsset1/data/KOSPI_자기자본이익률.csv\")\n",
        "    부채비율 = pd.read_csv(\"/content/drive/MyDrive/FindAlpha_RiskyAsset1/data/KOSPI_부채비율.csv\")\n",
        "    주당순자산가치비율 = pd.read_csv(\"/content/drive/MyDrive/FindAlpha_RiskyAsset1/data/KOSPI_주당순자산가치비율_PBR.csv\")\n",
        "    배당성향 = pd.read_csv(\"/content/drive/MyDrive/FindAlpha_RiskyAsset1/data/KOSPI_배당성향.csv\")\n",
        ")\n",
        "  # 에러날 경우 \"content/drive/FindAlpha_RiskyAsset1\"로 재실행"
      ],
      "metadata": {
        "id": "qmZo8ZgqytuC"
      },
      "execution_count": null,
      "outputs": []
    },
    {
      "cell_type": "code",
      "source": [
        "주당순자산가치비율"
      ],
      "metadata": {
        "id": "-3YKFnFznX2z"
      },
      "execution_count": 116,
      "outputs": []
    },
    {
      "cell_type": "code",
      "source": [],
      "metadata": {
        "id": "39WuN9dOnu51"
      },
      "execution_count": null,
      "outputs": []
    }
  ]
}